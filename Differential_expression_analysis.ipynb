{
  "nbformat": 4,
  "nbformat_minor": 0,
  "metadata": {
    "colab": {
      "provenance": [],
      "authorship_tag": "ABX9TyPXyAHHZRGWJ3P8Dv/6gRp0",
      "include_colab_link": true
    },
    "kernelspec": {
      "name": "ir",
      "display_name": "R"
    },
    "language_info": {
      "name": "R"
    }
  },
  "cells": [
    {
      "cell_type": "markdown",
      "metadata": {
        "id": "view-in-github",
        "colab_type": "text"
      },
      "source": [
        "<a href=\"https://colab.research.google.com/github/mmasliakova/Ribo-Seq-analysis/blob/main/Differential_expression_analysis.ipynb\" target=\"_parent\"><img src=\"https://colab.research.google.com/assets/colab-badge.svg\" alt=\"Open In Colab\"/></a>"
      ]
    },
    {
      "cell_type": "code",
      "source": [
        "if (!require(\"BiocManager\", quietly = TRUE))\n",
        "    install.packages(\"BiocManager\")"
      ],
      "metadata": {
        "id": "lJVw_ud3fx79"
      },
      "execution_count": null,
      "outputs": []
    },
    {
      "cell_type": "code",
      "execution_count": null,
      "metadata": {
        "id": "B1uPjrfVftf1"
      },
      "outputs": [],
      "source": [
        "BiocManager::install(\"DESeq2\")"
      ]
    },
    {
      "cell_type": "code",
      "source": [
        "library(DESeq2)"
      ],
      "metadata": {
        "id": "2NtZHDwAf_QL"
      },
      "execution_count": null,
      "outputs": []
    },
    {
      "cell_type": "code",
      "source": [
        "coldata <- read.table('design.tsv', header = TRUE, sep = '\\t')"
      ],
      "metadata": {
        "id": "IVTrSzP5jRLw"
      },
      "execution_count": 4,
      "outputs": []
    },
    {
      "cell_type": "code",
      "source": [
        "head(coldata)"
      ],
      "metadata": {
        "colab": {
          "base_uri": "https://localhost:8080/",
          "height": 286
        },
        "id": "Pe47w6oyoTqK",
        "outputId": "94e278a2-b1aa-4d3e-8d0c-de042d3e3681"
      },
      "execution_count": 5,
      "outputs": [
        {
          "output_type": "display_data",
          "data": {
            "text/html": [
              "<table class=\"dataframe\">\n",
              "<caption>A data.frame: 6 × 3</caption>\n",
              "<thead>\n",
              "\t<tr><th></th><th scope=col>X</th><th scope=col>condition</th><th scope=col>experiment</th></tr>\n",
              "\t<tr><th></th><th scope=col>&lt;chr&gt;</th><th scope=col>&lt;chr&gt;</th><th scope=col>&lt;chr&gt;</th></tr>\n",
              "</thead>\n",
              "<tbody>\n",
              "\t<tr><th scope=row>1</th><td>LC001-normal-RPF</td><td>normal</td><td>RPF</td></tr>\n",
              "\t<tr><th scope=row>2</th><td>LC001-tumor-RPF </td><td>tumor </td><td>RPF</td></tr>\n",
              "\t<tr><th scope=row>3</th><td>LC001-normal-RNA</td><td>normal</td><td>RNA</td></tr>\n",
              "\t<tr><th scope=row>4</th><td>LC001-tumor-RNA </td><td>tumor </td><td>RNA</td></tr>\n",
              "\t<tr><th scope=row>5</th><td>LC033-normal-RPF</td><td>normal</td><td>RPF</td></tr>\n",
              "\t<tr><th scope=row>6</th><td>LC033-tumor-RPF </td><td>tumor </td><td>RPF</td></tr>\n",
              "</tbody>\n",
              "</table>\n"
            ],
            "text/markdown": "\nA data.frame: 6 × 3\n\n| <!--/--> | X &lt;chr&gt; | condition &lt;chr&gt; | experiment &lt;chr&gt; |\n|---|---|---|---|\n| 1 | LC001-normal-RPF | normal | RPF |\n| 2 | LC001-tumor-RPF  | tumor  | RPF |\n| 3 | LC001-normal-RNA | normal | RNA |\n| 4 | LC001-tumor-RNA  | tumor  | RNA |\n| 5 | LC033-normal-RPF | normal | RPF |\n| 6 | LC033-tumor-RPF  | tumor  | RPF |\n\n",
            "text/latex": "A data.frame: 6 × 3\n\\begin{tabular}{r|lll}\n  & X & condition & experiment\\\\\n  & <chr> & <chr> & <chr>\\\\\n\\hline\n\t1 & LC001-normal-RPF & normal & RPF\\\\\n\t2 & LC001-tumor-RPF  & tumor  & RPF\\\\\n\t3 & LC001-normal-RNA & normal & RNA\\\\\n\t4 & LC001-tumor-RNA  & tumor  & RNA\\\\\n\t5 & LC033-normal-RPF & normal & RPF\\\\\n\t6 & LC033-tumor-RPF  & tumor  & RPF\\\\\n\\end{tabular}\n",
            "text/plain": [
              "  X                condition experiment\n",
              "1 LC001-normal-RPF normal    RPF       \n",
              "2 LC001-tumor-RPF  tumor     RPF       \n",
              "3 LC001-normal-RNA normal    RNA       \n",
              "4 LC001-tumor-RNA  tumor     RNA       \n",
              "5 LC033-normal-RPF normal    RPF       \n",
              "6 LC033-tumor-RPF  tumor     RPF       "
            ]
          },
          "metadata": {}
        }
      ]
    },
    {
      "cell_type": "code",
      "source": [
        "rpf_data = coldata[coldata$experiment == 'RPF', ]\n",
        "rpf_data = rpf_data[, -3]"
      ],
      "metadata": {
        "id": "XWP7a2qLoU9F"
      },
      "execution_count": 6,
      "outputs": []
    },
    {
      "cell_type": "code",
      "source": [
        "rpf_data <- data.frame(rpf_data[,-1], row.names = rpf_data[,1])"
      ],
      "metadata": {
        "id": "XUM-21-WoZT9"
      },
      "execution_count": 7,
      "outputs": []
    },
    {
      "cell_type": "code",
      "source": [
        "colnames(rpf_data) = c('condition')"
      ],
      "metadata": {
        "id": "6p-hrGIFoavG"
      },
      "execution_count": 8,
      "outputs": []
    },
    {
      "cell_type": "code",
      "source": [
        "rna_data = coldata[coldata$experiment == 'RNA', ]\n",
        "rna_data = rna_data[, -3]"
      ],
      "metadata": {
        "id": "8YmVaHVFocam"
      },
      "execution_count": 9,
      "outputs": []
    },
    {
      "cell_type": "code",
      "source": [
        "rna_data <- data.frame(rna_data[,-1], row.names = rna_data[,1])\n",
        "colnames(rna_data) = c('condition')"
      ],
      "metadata": {
        "id": "FGP-MIVwod5G"
      },
      "execution_count": 10,
      "outputs": []
    },
    {
      "cell_type": "code",
      "source": [
        "cts = read.table('01. RiboSeq_RNASeq_HCC_counts.tsv', header = TRUE, sep = '\\t')\n",
        "cts[is.na(cts)] <- 0\n",
        "cts = cts[, -1:-2]\n",
        "cts$LC509.tumor.RNA = as.integer(cts$LC509.tumor.RNA)\n",
        "names(cts) <- gsub(\"\\\\.\", \"\\\\-\", names(cts))"
      ],
      "metadata": {
        "id": "OVjom2yUogKr"
      },
      "execution_count": 11,
      "outputs": []
    },
    {
      "cell_type": "code",
      "source": [
        "head(cts)"
      ],
      "metadata": {
        "colab": {
          "base_uri": "https://localhost:8080/",
          "height": 341
        },
        "id": "kN3-YVXHpZBa",
        "outputId": "fe05c45c-64ab-462b-b88f-2d7203406b08"
      },
      "execution_count": 12,
      "outputs": [
        {
          "output_type": "display_data",
          "data": {
            "text/html": [
              "<table class=\"dataframe\">\n",
              "<caption>A data.frame: 6 × 40</caption>\n",
              "<thead>\n",
              "\t<tr><th></th><th scope=col>LC001-normal-RPF</th><th scope=col>LC001-tumor-RPF</th><th scope=col>LC001-normal-RNA</th><th scope=col>LC001-tumor-RNA</th><th scope=col>LC033-normal-RPF</th><th scope=col>LC033-tumor-RPF</th><th scope=col>LC033-normal-RNA</th><th scope=col>LC033-tumor-RNA</th><th scope=col>LC034-normal-RPF</th><th scope=col>LC034-tumor-RPF</th><th scope=col>⋯</th><th scope=col>LC507-normal-RNA</th><th scope=col>LC507-tumor-RNA</th><th scope=col>LC508-normal-RPF</th><th scope=col>LC508-tumor-RPF</th><th scope=col>LC508-normal-RNA</th><th scope=col>LC508-tumor-RNA</th><th scope=col>LC509-normal-RPF</th><th scope=col>LC509-tumor-RPF</th><th scope=col>LC509-normal-RNA</th><th scope=col>LC509-tumor-RNA</th></tr>\n",
              "\t<tr><th></th><th scope=col>&lt;int&gt;</th><th scope=col>&lt;int&gt;</th><th scope=col>&lt;int&gt;</th><th scope=col>&lt;int&gt;</th><th scope=col>&lt;int&gt;</th><th scope=col>&lt;int&gt;</th><th scope=col>&lt;int&gt;</th><th scope=col>&lt;int&gt;</th><th scope=col>&lt;int&gt;</th><th scope=col>&lt;int&gt;</th><th scope=col>⋯</th><th scope=col>&lt;int&gt;</th><th scope=col>&lt;int&gt;</th><th scope=col>&lt;int&gt;</th><th scope=col>&lt;int&gt;</th><th scope=col>&lt;int&gt;</th><th scope=col>&lt;int&gt;</th><th scope=col>&lt;int&gt;</th><th scope=col>&lt;int&gt;</th><th scope=col>&lt;int&gt;</th><th scope=col>&lt;int&gt;</th></tr>\n",
              "</thead>\n",
              "<tbody>\n",
              "\t<tr><th scope=row>1</th><td>  0</td><td>  0</td><td>402</td><td>873</td><td>  0</td><td>  0</td><td>301</td><td>1627</td><td>  0</td><td>  0</td><td>⋯</td><td>218</td><td>457</td><td>  0</td><td>  0</td><td>200</td><td>889</td><td>  0</td><td>  0</td><td>161</td><td>857</td></tr>\n",
              "\t<tr><th scope=row>2</th><td>  0</td><td>  0</td><td>  0</td><td>  1</td><td>  0</td><td>  0</td><td>  0</td><td>   1</td><td>  0</td><td>  0</td><td>⋯</td><td>  0</td><td>  0</td><td>  1</td><td>  0</td><td>  0</td><td>  0</td><td>  0</td><td>  0</td><td>  0</td><td>  0</td></tr>\n",
              "\t<tr><th scope=row>3</th><td>168</td><td>239</td><td> 88</td><td>187</td><td>114</td><td>439</td><td> 66</td><td> 201</td><td>325</td><td>117</td><td>⋯</td><td> 92</td><td>170</td><td>109</td><td>357</td><td> 60</td><td>244</td><td>141</td><td>173</td><td> 56</td><td> 83</td></tr>\n",
              "\t<tr><th scope=row>4</th><td> 65</td><td>121</td><td> 60</td><td>106</td><td> 36</td><td>163</td><td> 70</td><td> 156</td><td>130</td><td> 76</td><td>⋯</td><td>127</td><td>176</td><td> 67</td><td>176</td><td> 55</td><td>261</td><td> 64</td><td>100</td><td> 68</td><td>176</td></tr>\n",
              "\t<tr><th scope=row>5</th><td>  8</td><td> 43</td><td> 18</td><td> 70</td><td> 16</td><td> 76</td><td>  4</td><td>  63</td><td> 44</td><td> 14</td><td>⋯</td><td>124</td><td>437</td><td>  7</td><td>167</td><td> 34</td><td>201</td><td>  6</td><td> 61</td><td>  9</td><td> 58</td></tr>\n",
              "\t<tr><th scope=row>6</th><td>  0</td><td>  6</td><td> 19</td><td>  9</td><td> 14</td><td> 13</td><td> 61</td><td>  24</td><td> 15</td><td> 62</td><td>⋯</td><td> 94</td><td> 13</td><td>  3</td><td>  9</td><td> 42</td><td> 26</td><td>  7</td><td> 10</td><td> 26</td><td> 57</td></tr>\n",
              "</tbody>\n",
              "</table>\n"
            ],
            "text/markdown": "\nA data.frame: 6 × 40\n\n| <!--/--> | LC001-normal-RPF &lt;int&gt; | LC001-tumor-RPF &lt;int&gt; | LC001-normal-RNA &lt;int&gt; | LC001-tumor-RNA &lt;int&gt; | LC033-normal-RPF &lt;int&gt; | LC033-tumor-RPF &lt;int&gt; | LC033-normal-RNA &lt;int&gt; | LC033-tumor-RNA &lt;int&gt; | LC034-normal-RPF &lt;int&gt; | LC034-tumor-RPF &lt;int&gt; | ⋯ ⋯ | LC507-normal-RNA &lt;int&gt; | LC507-tumor-RNA &lt;int&gt; | LC508-normal-RPF &lt;int&gt; | LC508-tumor-RPF &lt;int&gt; | LC508-normal-RNA &lt;int&gt; | LC508-tumor-RNA &lt;int&gt; | LC509-normal-RPF &lt;int&gt; | LC509-tumor-RPF &lt;int&gt; | LC509-normal-RNA &lt;int&gt; | LC509-tumor-RNA &lt;int&gt; |\n|---|---|---|---|---|---|---|---|---|---|---|---|---|---|---|---|---|---|---|---|---|---|\n| 1 |   0 |   0 | 402 | 873 |   0 |   0 | 301 | 1627 |   0 |   0 | ⋯ | 218 | 457 |   0 |   0 | 200 | 889 |   0 |   0 | 161 | 857 |\n| 2 |   0 |   0 |   0 |   1 |   0 |   0 |   0 |    1 |   0 |   0 | ⋯ |   0 |   0 |   1 |   0 |   0 |   0 |   0 |   0 |   0 |   0 |\n| 3 | 168 | 239 |  88 | 187 | 114 | 439 |  66 |  201 | 325 | 117 | ⋯ |  92 | 170 | 109 | 357 |  60 | 244 | 141 | 173 |  56 |  83 |\n| 4 |  65 | 121 |  60 | 106 |  36 | 163 |  70 |  156 | 130 |  76 | ⋯ | 127 | 176 |  67 | 176 |  55 | 261 |  64 | 100 |  68 | 176 |\n| 5 |   8 |  43 |  18 |  70 |  16 |  76 |   4 |   63 |  44 |  14 | ⋯ | 124 | 437 |   7 | 167 |  34 | 201 |   6 |  61 |   9 |  58 |\n| 6 |   0 |   6 |  19 |   9 |  14 |  13 |  61 |   24 |  15 |  62 | ⋯ |  94 |  13 |   3 |   9 |  42 |  26 |   7 |  10 |  26 |  57 |\n\n",
            "text/latex": "A data.frame: 6 × 40\n\\begin{tabular}{r|lllllllllllllllllllll}\n  & LC001-normal-RPF & LC001-tumor-RPF & LC001-normal-RNA & LC001-tumor-RNA & LC033-normal-RPF & LC033-tumor-RPF & LC033-normal-RNA & LC033-tumor-RNA & LC034-normal-RPF & LC034-tumor-RPF & ⋯ & LC507-normal-RNA & LC507-tumor-RNA & LC508-normal-RPF & LC508-tumor-RPF & LC508-normal-RNA & LC508-tumor-RNA & LC509-normal-RPF & LC509-tumor-RPF & LC509-normal-RNA & LC509-tumor-RNA\\\\\n  & <int> & <int> & <int> & <int> & <int> & <int> & <int> & <int> & <int> & <int> & ⋯ & <int> & <int> & <int> & <int> & <int> & <int> & <int> & <int> & <int> & <int>\\\\\n\\hline\n\t1 &   0 &   0 & 402 & 873 &   0 &   0 & 301 & 1627 &   0 &   0 & ⋯ & 218 & 457 &   0 &   0 & 200 & 889 &   0 &   0 & 161 & 857\\\\\n\t2 &   0 &   0 &   0 &   1 &   0 &   0 &   0 &    1 &   0 &   0 & ⋯ &   0 &   0 &   1 &   0 &   0 &   0 &   0 &   0 &   0 &   0\\\\\n\t3 & 168 & 239 &  88 & 187 & 114 & 439 &  66 &  201 & 325 & 117 & ⋯ &  92 & 170 & 109 & 357 &  60 & 244 & 141 & 173 &  56 &  83\\\\\n\t4 &  65 & 121 &  60 & 106 &  36 & 163 &  70 &  156 & 130 &  76 & ⋯ & 127 & 176 &  67 & 176 &  55 & 261 &  64 & 100 &  68 & 176\\\\\n\t5 &   8 &  43 &  18 &  70 &  16 &  76 &   4 &   63 &  44 &  14 & ⋯ & 124 & 437 &   7 & 167 &  34 & 201 &   6 &  61 &   9 &  58\\\\\n\t6 &   0 &   6 &  19 &   9 &  14 &  13 &  61 &   24 &  15 &  62 & ⋯ &  94 &  13 &   3 &   9 &  42 &  26 &   7 &  10 &  26 &  57\\\\\n\\end{tabular}\n",
            "text/plain": [
              "  LC001-normal-RPF LC001-tumor-RPF LC001-normal-RNA LC001-tumor-RNA\n",
              "1   0                0             402              873            \n",
              "2   0                0               0                1            \n",
              "3 168              239              88              187            \n",
              "4  65              121              60              106            \n",
              "5   8               43              18               70            \n",
              "6   0                6              19                9            \n",
              "  LC033-normal-RPF LC033-tumor-RPF LC033-normal-RNA LC033-tumor-RNA\n",
              "1   0                0             301              1627           \n",
              "2   0                0               0                 1           \n",
              "3 114              439              66               201           \n",
              "4  36              163              70               156           \n",
              "5  16               76               4                63           \n",
              "6  14               13              61                24           \n",
              "  LC034-normal-RPF LC034-tumor-RPF ⋯ LC507-normal-RNA LC507-tumor-RNA\n",
              "1   0                0             ⋯ 218              457            \n",
              "2   0                0             ⋯   0                0            \n",
              "3 325              117             ⋯  92              170            \n",
              "4 130               76             ⋯ 127              176            \n",
              "5  44               14             ⋯ 124              437            \n",
              "6  15               62             ⋯  94               13            \n",
              "  LC508-normal-RPF LC508-tumor-RPF LC508-normal-RNA LC508-tumor-RNA\n",
              "1   0                0             200              889            \n",
              "2   1                0               0                0            \n",
              "3 109              357              60              244            \n",
              "4  67              176              55              261            \n",
              "5   7              167              34              201            \n",
              "6   3                9              42               26            \n",
              "  LC509-normal-RPF LC509-tumor-RPF LC509-normal-RNA LC509-tumor-RNA\n",
              "1   0                0             161              857            \n",
              "2   0                0               0                0            \n",
              "3 141              173              56               83            \n",
              "4  64              100              68              176            \n",
              "5   6               61               9               58            \n",
              "6   7               10              26               57            "
            ]
          },
          "metadata": {}
        }
      ]
    },
    {
      "cell_type": "code",
      "source": [
        "rpf_cts = cts[, grepl('RPF', names(cts))]"
      ],
      "metadata": {
        "id": "rCcD4NeipauZ"
      },
      "execution_count": 13,
      "outputs": []
    },
    {
      "cell_type": "code",
      "source": [
        "head(rpf_cts)"
      ],
      "metadata": {
        "colab": {
          "base_uri": "https://localhost:8080/",
          "height": 341
        },
        "id": "5tLGwHYbpdAI",
        "outputId": "e128c2dc-0ceb-4002-8ae8-e647f858ab2a"
      },
      "execution_count": 14,
      "outputs": [
        {
          "output_type": "display_data",
          "data": {
            "text/html": [
              "<table class=\"dataframe\">\n",
              "<caption>A data.frame: 6 × 20</caption>\n",
              "<thead>\n",
              "\t<tr><th></th><th scope=col>LC001-normal-RPF</th><th scope=col>LC001-tumor-RPF</th><th scope=col>LC033-normal-RPF</th><th scope=col>LC033-tumor-RPF</th><th scope=col>LC034-normal-RPF</th><th scope=col>LC034-tumor-RPF</th><th scope=col>LC501-normal-RPF</th><th scope=col>LC501-tumor-RPF</th><th scope=col>LC502-normal-RPF</th><th scope=col>LC502-tumor-RPF</th><th scope=col>LC505-normal-RPF</th><th scope=col>LC505-tumor-RPF</th><th scope=col>LC506-normal-RPF</th><th scope=col>LC506-tumor-RPF</th><th scope=col>LC507-normal-RPF</th><th scope=col>LC507-tumor-RPF</th><th scope=col>LC508-normal-RPF</th><th scope=col>LC508-tumor-RPF</th><th scope=col>LC509-normal-RPF</th><th scope=col>LC509-tumor-RPF</th></tr>\n",
              "\t<tr><th></th><th scope=col>&lt;int&gt;</th><th scope=col>&lt;int&gt;</th><th scope=col>&lt;int&gt;</th><th scope=col>&lt;int&gt;</th><th scope=col>&lt;int&gt;</th><th scope=col>&lt;int&gt;</th><th scope=col>&lt;int&gt;</th><th scope=col>&lt;int&gt;</th><th scope=col>&lt;int&gt;</th><th scope=col>&lt;int&gt;</th><th scope=col>&lt;int&gt;</th><th scope=col>&lt;int&gt;</th><th scope=col>&lt;int&gt;</th><th scope=col>&lt;int&gt;</th><th scope=col>&lt;int&gt;</th><th scope=col>&lt;int&gt;</th><th scope=col>&lt;int&gt;</th><th scope=col>&lt;int&gt;</th><th scope=col>&lt;int&gt;</th><th scope=col>&lt;int&gt;</th></tr>\n",
              "</thead>\n",
              "<tbody>\n",
              "\t<tr><th scope=row>1</th><td>  0</td><td>  0</td><td>  0</td><td>  0</td><td>  0</td><td>  0</td><td>  0</td><td>  0</td><td>  0</td><td>  0</td><td>  0</td><td>  0</td><td>  0</td><td>  0</td><td>  0</td><td>  0</td><td>  0</td><td>  0</td><td>  0</td><td>  0</td></tr>\n",
              "\t<tr><th scope=row>2</th><td>  0</td><td>  0</td><td>  0</td><td>  0</td><td>  0</td><td>  0</td><td>  0</td><td>  0</td><td>  0</td><td>  2</td><td>  0</td><td>  0</td><td>  0</td><td>  0</td><td>  0</td><td>  0</td><td>  1</td><td>  0</td><td>  0</td><td>  0</td></tr>\n",
              "\t<tr><th scope=row>3</th><td>168</td><td>239</td><td>114</td><td>439</td><td>325</td><td>117</td><td>106</td><td>192</td><td>118</td><td>292</td><td>159</td><td>237</td><td>149</td><td>230</td><td>169</td><td>260</td><td>109</td><td>357</td><td>141</td><td>173</td></tr>\n",
              "\t<tr><th scope=row>4</th><td> 65</td><td>121</td><td> 36</td><td>163</td><td>130</td><td> 76</td><td> 34</td><td> 43</td><td> 84</td><td>221</td><td> 74</td><td>185</td><td> 65</td><td> 98</td><td> 81</td><td>105</td><td> 67</td><td>176</td><td> 64</td><td>100</td></tr>\n",
              "\t<tr><th scope=row>5</th><td>  8</td><td> 43</td><td> 16</td><td> 76</td><td> 44</td><td> 14</td><td>  5</td><td> 27</td><td> 24</td><td> 42</td><td> 10</td><td> 71</td><td> 18</td><td>103</td><td> 79</td><td>225</td><td>  7</td><td>167</td><td>  6</td><td> 61</td></tr>\n",
              "\t<tr><th scope=row>6</th><td>  0</td><td>  6</td><td> 14</td><td> 13</td><td> 15</td><td> 62</td><td>  5</td><td>  5</td><td> 22</td><td>  5</td><td>  0</td><td>  4</td><td> 18</td><td>  6</td><td>  8</td><td>  1</td><td>  3</td><td>  9</td><td>  7</td><td> 10</td></tr>\n",
              "</tbody>\n",
              "</table>\n"
            ],
            "text/markdown": "\nA data.frame: 6 × 20\n\n| <!--/--> | LC001-normal-RPF &lt;int&gt; | LC001-tumor-RPF &lt;int&gt; | LC033-normal-RPF &lt;int&gt; | LC033-tumor-RPF &lt;int&gt; | LC034-normal-RPF &lt;int&gt; | LC034-tumor-RPF &lt;int&gt; | LC501-normal-RPF &lt;int&gt; | LC501-tumor-RPF &lt;int&gt; | LC502-normal-RPF &lt;int&gt; | LC502-tumor-RPF &lt;int&gt; | LC505-normal-RPF &lt;int&gt; | LC505-tumor-RPF &lt;int&gt; | LC506-normal-RPF &lt;int&gt; | LC506-tumor-RPF &lt;int&gt; | LC507-normal-RPF &lt;int&gt; | LC507-tumor-RPF &lt;int&gt; | LC508-normal-RPF &lt;int&gt; | LC508-tumor-RPF &lt;int&gt; | LC509-normal-RPF &lt;int&gt; | LC509-tumor-RPF &lt;int&gt; |\n|---|---|---|---|---|---|---|---|---|---|---|---|---|---|---|---|---|---|---|---|---|\n| 1 |   0 |   0 |   0 |   0 |   0 |   0 |   0 |   0 |   0 |   0 |   0 |   0 |   0 |   0 |   0 |   0 |   0 |   0 |   0 |   0 |\n| 2 |   0 |   0 |   0 |   0 |   0 |   0 |   0 |   0 |   0 |   2 |   0 |   0 |   0 |   0 |   0 |   0 |   1 |   0 |   0 |   0 |\n| 3 | 168 | 239 | 114 | 439 | 325 | 117 | 106 | 192 | 118 | 292 | 159 | 237 | 149 | 230 | 169 | 260 | 109 | 357 | 141 | 173 |\n| 4 |  65 | 121 |  36 | 163 | 130 |  76 |  34 |  43 |  84 | 221 |  74 | 185 |  65 |  98 |  81 | 105 |  67 | 176 |  64 | 100 |\n| 5 |   8 |  43 |  16 |  76 |  44 |  14 |   5 |  27 |  24 |  42 |  10 |  71 |  18 | 103 |  79 | 225 |   7 | 167 |   6 |  61 |\n| 6 |   0 |   6 |  14 |  13 |  15 |  62 |   5 |   5 |  22 |   5 |   0 |   4 |  18 |   6 |   8 |   1 |   3 |   9 |   7 |  10 |\n\n",
            "text/latex": "A data.frame: 6 × 20\n\\begin{tabular}{r|llllllllllllllllllll}\n  & LC001-normal-RPF & LC001-tumor-RPF & LC033-normal-RPF & LC033-tumor-RPF & LC034-normal-RPF & LC034-tumor-RPF & LC501-normal-RPF & LC501-tumor-RPF & LC502-normal-RPF & LC502-tumor-RPF & LC505-normal-RPF & LC505-tumor-RPF & LC506-normal-RPF & LC506-tumor-RPF & LC507-normal-RPF & LC507-tumor-RPF & LC508-normal-RPF & LC508-tumor-RPF & LC509-normal-RPF & LC509-tumor-RPF\\\\\n  & <int> & <int> & <int> & <int> & <int> & <int> & <int> & <int> & <int> & <int> & <int> & <int> & <int> & <int> & <int> & <int> & <int> & <int> & <int> & <int>\\\\\n\\hline\n\t1 &   0 &   0 &   0 &   0 &   0 &   0 &   0 &   0 &   0 &   0 &   0 &   0 &   0 &   0 &   0 &   0 &   0 &   0 &   0 &   0\\\\\n\t2 &   0 &   0 &   0 &   0 &   0 &   0 &   0 &   0 &   0 &   2 &   0 &   0 &   0 &   0 &   0 &   0 &   1 &   0 &   0 &   0\\\\\n\t3 & 168 & 239 & 114 & 439 & 325 & 117 & 106 & 192 & 118 & 292 & 159 & 237 & 149 & 230 & 169 & 260 & 109 & 357 & 141 & 173\\\\\n\t4 &  65 & 121 &  36 & 163 & 130 &  76 &  34 &  43 &  84 & 221 &  74 & 185 &  65 &  98 &  81 & 105 &  67 & 176 &  64 & 100\\\\\n\t5 &   8 &  43 &  16 &  76 &  44 &  14 &   5 &  27 &  24 &  42 &  10 &  71 &  18 & 103 &  79 & 225 &   7 & 167 &   6 &  61\\\\\n\t6 &   0 &   6 &  14 &  13 &  15 &  62 &   5 &   5 &  22 &   5 &   0 &   4 &  18 &   6 &   8 &   1 &   3 &   9 &   7 &  10\\\\\n\\end{tabular}\n",
            "text/plain": [
              "  LC001-normal-RPF LC001-tumor-RPF LC033-normal-RPF LC033-tumor-RPF\n",
              "1   0                0               0                0            \n",
              "2   0                0               0                0            \n",
              "3 168              239             114              439            \n",
              "4  65              121              36              163            \n",
              "5   8               43              16               76            \n",
              "6   0                6              14               13            \n",
              "  LC034-normal-RPF LC034-tumor-RPF LC501-normal-RPF LC501-tumor-RPF\n",
              "1   0                0               0                0            \n",
              "2   0                0               0                0            \n",
              "3 325              117             106              192            \n",
              "4 130               76              34               43            \n",
              "5  44               14               5               27            \n",
              "6  15               62               5                5            \n",
              "  LC502-normal-RPF LC502-tumor-RPF LC505-normal-RPF LC505-tumor-RPF\n",
              "1   0                0               0                0            \n",
              "2   0                2               0                0            \n",
              "3 118              292             159              237            \n",
              "4  84              221              74              185            \n",
              "5  24               42              10               71            \n",
              "6  22                5               0                4            \n",
              "  LC506-normal-RPF LC506-tumor-RPF LC507-normal-RPF LC507-tumor-RPF\n",
              "1   0                0               0                0            \n",
              "2   0                0               0                0            \n",
              "3 149              230             169              260            \n",
              "4  65               98              81              105            \n",
              "5  18              103              79              225            \n",
              "6  18                6               8                1            \n",
              "  LC508-normal-RPF LC508-tumor-RPF LC509-normal-RPF LC509-tumor-RPF\n",
              "1   0                0               0                0            \n",
              "2   1                0               0                0            \n",
              "3 109              357             141              173            \n",
              "4  67              176              64              100            \n",
              "5   7              167               6               61            \n",
              "6   3                9               7               10            "
            ]
          },
          "metadata": {}
        }
      ]
    },
    {
      "cell_type": "code",
      "source": [
        "rna_cts = cts[, grepl('RNA', names(cts))]"
      ],
      "metadata": {
        "id": "gtwYYOq-pd9m"
      },
      "execution_count": 15,
      "outputs": []
    },
    {
      "cell_type": "markdown",
      "source": [
        "RPF"
      ],
      "metadata": {
        "id": "2MGHa_WtphG5"
      }
    },
    {
      "cell_type": "code",
      "source": [
        "rpf_data$condition = factor(rpf_data$condition)\n",
        "dds <- DESeqDataSetFromMatrix(countData = rpf_cts,\n",
        "                              colData = rpf_data,\n",
        "                              design = ~ condition)"
      ],
      "metadata": {
        "id": "4VgOdx0cpfk9"
      },
      "execution_count": 16,
      "outputs": []
    },
    {
      "cell_type": "code",
      "source": [
        "dds = DESeq(dds)"
      ],
      "metadata": {
        "id": "KvI0blxepk1x"
      },
      "execution_count": null,
      "outputs": []
    },
    {
      "cell_type": "code",
      "source": [
        "res = results(dds)\n",
        "rpf_res = as.data.frame.matrix(res)"
      ],
      "metadata": {
        "id": "4bt_HYXRpoGL"
      },
      "execution_count": 18,
      "outputs": []
    },
    {
      "cell_type": "code",
      "source": [
        "write.table(rpf_res, file = 'rpf_deseq.tsv', quote = FALSE, sep = '\\t', col.names = NA)"
      ],
      "metadata": {
        "id": "6A-z7VA0puW_"
      },
      "execution_count": 19,
      "outputs": []
    },
    {
      "cell_type": "markdown",
      "source": [
        "RNA"
      ],
      "metadata": {
        "id": "2WKLPJ8Npw8X"
      }
    },
    {
      "cell_type": "code",
      "source": [
        "rna_data$condition = factor(rna_data$condition)\n",
        "dds <- DESeqDataSetFromMatrix(countData = rna_cts,\n",
        "                              colData = rna_data,\n",
        "                              design = ~ condition)"
      ],
      "metadata": {
        "id": "Uig5MSe5pv7B"
      },
      "execution_count": 20,
      "outputs": []
    },
    {
      "cell_type": "code",
      "source": [
        "dds = DESeq(dds)"
      ],
      "metadata": {
        "id": "EeGCmxS5p1We"
      },
      "execution_count": null,
      "outputs": []
    },
    {
      "cell_type": "code",
      "source": [
        "res = results(dds)\n",
        "rna_res = as.data.frame.matrix(res)"
      ],
      "metadata": {
        "id": "zoj7vsOxp3Qt"
      },
      "execution_count": 22,
      "outputs": []
    },
    {
      "cell_type": "code",
      "source": [
        "write.table(rna_res, file = 'rna_deseq.tsv', quote = FALSE, sep = '\\t', col.names = NA)"
      ],
      "metadata": {
        "id": "A8T7jILwp62v"
      },
      "execution_count": 23,
      "outputs": []
    },
    {
      "cell_type": "markdown",
      "source": [
        "BOTH"
      ],
      "metadata": {
        "id": "7Fhsx2dNp9qe"
      }
    },
    {
      "cell_type": "code",
      "source": [
        "coldata <- data.frame(coldata[,-1], row.names = coldata[,1])"
      ],
      "metadata": {
        "id": "g38meneep8z6"
      },
      "execution_count": 24,
      "outputs": []
    },
    {
      "cell_type": "code",
      "source": [
        "coldata$condition = factor(coldata$condition)\n",
        "coldata$experiment = factor(coldata$experiment)\n",
        "dds <- DESeqDataSetFromMatrix(countData = cts,\n",
        "                              colData = coldata,\n",
        "                              design = ~ experiment + condition + condition:experiment)"
      ],
      "metadata": {
        "id": "8xwRz051p_jV"
      },
      "execution_count": 25,
      "outputs": []
    },
    {
      "cell_type": "code",
      "source": [
        "dds = DESeq(dds)"
      ],
      "metadata": {
        "id": "15RrkBFFqBvX"
      },
      "execution_count": null,
      "outputs": []
    },
    {
      "cell_type": "code",
      "source": [
        "res = results(dds)\n",
        "res = as.data.frame.matrix(res)"
      ],
      "metadata": {
        "id": "hs0kEg_WqDgI"
      },
      "execution_count": 27,
      "outputs": []
    },
    {
      "cell_type": "code",
      "source": [
        "write.table(res, file = 'total_deseq.tsv', quote = FALSE, sep = '\\t', col.names = NA)"
      ],
      "metadata": {
        "id": "4ntewaTRqLdQ"
      },
      "execution_count": 28,
      "outputs": []
    }
  ]
}