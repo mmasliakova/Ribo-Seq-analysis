{
  "nbformat": 4,
  "nbformat_minor": 0,
  "metadata": {
    "colab": {
      "provenance": [],
      "authorship_tag": "ABX9TyPhtM6XhW9HGko45/9lhm2O",
      "include_colab_link": true
    },
    "kernelspec": {
      "name": "python3",
      "display_name": "Python 3"
    },
    "language_info": {
      "name": "python"
    }
  },
  "cells": [
    {
      "cell_type": "markdown",
      "metadata": {
        "id": "view-in-github",
        "colab_type": "text"
      },
      "source": [
        "<a href=\"https://colab.research.google.com/github/mmasliakova/Ribo-Seq-analysis/blob/main/Riboseq.ipynb\" target=\"_parent\"><img src=\"https://colab.research.google.com/assets/colab-badge.svg\" alt=\"Open In Colab\"/></a>"
      ]
    },
    {
      "cell_type": "markdown",
      "source": [
        "# **Задание 1. Определение дифференциальной экспрессии.**"
      ],
      "metadata": {
        "id": "z_k5yU4Wp3ZO"
      }
    },
    {
      "cell_type": "code",
      "execution_count": 138,
      "metadata": {
        "id": "V6viSlQBRRCd"
      },
      "outputs": [],
      "source": [
        "import pandas as pd\n",
        "import numpy as np\n",
        "import matplotlib.pyplot as plt\n",
        "import seaborn as sns\n",
        "from sklearn.linear_model import LinearRegression"
      ]
    },
    {
      "cell_type": "code",
      "source": [
        "data = pd.read_csv('01. RiboSeq_RNASeq_HCC_counts.tsv', sep='\\t')\n",
        "data = data.fillna(0)"
      ],
      "metadata": {
        "id": "-0q8GjmYSOJr"
      },
      "execution_count": 139,
      "outputs": []
    },
    {
      "cell_type": "code",
      "source": [
        "genes = list(data[\"geneSymbol\"])\n",
        "del data[\"geneID\"], data[\"geneSymbol\"]\n",
        "data.index = genes\n",
        "data.head()"
      ],
      "metadata": {
        "colab": {
          "base_uri": "https://localhost:8080/",
          "height": 334
        },
        "id": "DSjUMRDJTd5e",
        "outputId": "c4b74c90-5435-4219-b639-39f4d67977cb"
      },
      "execution_count": 140,
      "outputs": [
        {
          "output_type": "execute_result",
          "data": {
            "text/plain": [
              "          LC001-normal-RPF  LC001-tumor-RPF  LC001-normal-RNA  \\\n",
              "TSPAN6                   0                0               402   \n",
              "TNMD                     0                0                 0   \n",
              "DPM1                   168              239                88   \n",
              "SCYL3                   65              121                60   \n",
              "C1orf112                 8               43                18   \n",
              "\n",
              "          LC001-tumor-RNA  LC033-normal-RPF  LC033-tumor-RPF  \\\n",
              "TSPAN6                873                 0                0   \n",
              "TNMD                    1                 0                0   \n",
              "DPM1                  187               114              439   \n",
              "SCYL3                 106                36              163   \n",
              "C1orf112               70                16               76   \n",
              "\n",
              "          LC033-normal-RNA  LC033-tumor-RNA  LC034-normal-RPF  \\\n",
              "TSPAN6                 301             1627                 0   \n",
              "TNMD                     0                1                 0   \n",
              "DPM1                    66              201               325   \n",
              "SCYL3                   70              156               130   \n",
              "C1orf112                 4               63                44   \n",
              "\n",
              "          LC034-tumor-RPF  ...  LC507-normal-RNA  LC507-tumor-RNA  \\\n",
              "TSPAN6                  0  ...               218              457   \n",
              "TNMD                    0  ...                 0                0   \n",
              "DPM1                  117  ...                92              170   \n",
              "SCYL3                  76  ...               127              176   \n",
              "C1orf112               14  ...               124              437   \n",
              "\n",
              "          LC508-normal-RPF  LC508-tumor-RPF  LC508-normal-RNA  \\\n",
              "TSPAN6                   0                0               200   \n",
              "TNMD                     1                0                 0   \n",
              "DPM1                   109              357                60   \n",
              "SCYL3                   67              176                55   \n",
              "C1orf112                 7              167                34   \n",
              "\n",
              "          LC508-tumor-RNA  LC509-normal-RPF  LC509-tumor-RPF  \\\n",
              "TSPAN6                889                 0                0   \n",
              "TNMD                    0                 0                0   \n",
              "DPM1                  244               141              173   \n",
              "SCYL3                 261                64              100   \n",
              "C1orf112              201                 6               61   \n",
              "\n",
              "          LC509-normal-RNA  LC509-tumor-RNA  \n",
              "TSPAN6                 161            857.0  \n",
              "TNMD                     0              0.0  \n",
              "DPM1                    56             83.0  \n",
              "SCYL3                   68            176.0  \n",
              "C1orf112                 9             58.0  \n",
              "\n",
              "[5 rows x 40 columns]"
            ],
            "text/html": [
              "\n",
              "  <div id=\"df-8be14468-6258-464b-9882-2b2ee0b556f4\">\n",
              "    <div class=\"colab-df-container\">\n",
              "      <div>\n",
              "<style scoped>\n",
              "    .dataframe tbody tr th:only-of-type {\n",
              "        vertical-align: middle;\n",
              "    }\n",
              "\n",
              "    .dataframe tbody tr th {\n",
              "        vertical-align: top;\n",
              "    }\n",
              "\n",
              "    .dataframe thead th {\n",
              "        text-align: right;\n",
              "    }\n",
              "</style>\n",
              "<table border=\"1\" class=\"dataframe\">\n",
              "  <thead>\n",
              "    <tr style=\"text-align: right;\">\n",
              "      <th></th>\n",
              "      <th>LC001-normal-RPF</th>\n",
              "      <th>LC001-tumor-RPF</th>\n",
              "      <th>LC001-normal-RNA</th>\n",
              "      <th>LC001-tumor-RNA</th>\n",
              "      <th>LC033-normal-RPF</th>\n",
              "      <th>LC033-tumor-RPF</th>\n",
              "      <th>LC033-normal-RNA</th>\n",
              "      <th>LC033-tumor-RNA</th>\n",
              "      <th>LC034-normal-RPF</th>\n",
              "      <th>LC034-tumor-RPF</th>\n",
              "      <th>...</th>\n",
              "      <th>LC507-normal-RNA</th>\n",
              "      <th>LC507-tumor-RNA</th>\n",
              "      <th>LC508-normal-RPF</th>\n",
              "      <th>LC508-tumor-RPF</th>\n",
              "      <th>LC508-normal-RNA</th>\n",
              "      <th>LC508-tumor-RNA</th>\n",
              "      <th>LC509-normal-RPF</th>\n",
              "      <th>LC509-tumor-RPF</th>\n",
              "      <th>LC509-normal-RNA</th>\n",
              "      <th>LC509-tumor-RNA</th>\n",
              "    </tr>\n",
              "  </thead>\n",
              "  <tbody>\n",
              "    <tr>\n",
              "      <th>TSPAN6</th>\n",
              "      <td>0</td>\n",
              "      <td>0</td>\n",
              "      <td>402</td>\n",
              "      <td>873</td>\n",
              "      <td>0</td>\n",
              "      <td>0</td>\n",
              "      <td>301</td>\n",
              "      <td>1627</td>\n",
              "      <td>0</td>\n",
              "      <td>0</td>\n",
              "      <td>...</td>\n",
              "      <td>218</td>\n",
              "      <td>457</td>\n",
              "      <td>0</td>\n",
              "      <td>0</td>\n",
              "      <td>200</td>\n",
              "      <td>889</td>\n",
              "      <td>0</td>\n",
              "      <td>0</td>\n",
              "      <td>161</td>\n",
              "      <td>857.0</td>\n",
              "    </tr>\n",
              "    <tr>\n",
              "      <th>TNMD</th>\n",
              "      <td>0</td>\n",
              "      <td>0</td>\n",
              "      <td>0</td>\n",
              "      <td>1</td>\n",
              "      <td>0</td>\n",
              "      <td>0</td>\n",
              "      <td>0</td>\n",
              "      <td>1</td>\n",
              "      <td>0</td>\n",
              "      <td>0</td>\n",
              "      <td>...</td>\n",
              "      <td>0</td>\n",
              "      <td>0</td>\n",
              "      <td>1</td>\n",
              "      <td>0</td>\n",
              "      <td>0</td>\n",
              "      <td>0</td>\n",
              "      <td>0</td>\n",
              "      <td>0</td>\n",
              "      <td>0</td>\n",
              "      <td>0.0</td>\n",
              "    </tr>\n",
              "    <tr>\n",
              "      <th>DPM1</th>\n",
              "      <td>168</td>\n",
              "      <td>239</td>\n",
              "      <td>88</td>\n",
              "      <td>187</td>\n",
              "      <td>114</td>\n",
              "      <td>439</td>\n",
              "      <td>66</td>\n",
              "      <td>201</td>\n",
              "      <td>325</td>\n",
              "      <td>117</td>\n",
              "      <td>...</td>\n",
              "      <td>92</td>\n",
              "      <td>170</td>\n",
              "      <td>109</td>\n",
              "      <td>357</td>\n",
              "      <td>60</td>\n",
              "      <td>244</td>\n",
              "      <td>141</td>\n",
              "      <td>173</td>\n",
              "      <td>56</td>\n",
              "      <td>83.0</td>\n",
              "    </tr>\n",
              "    <tr>\n",
              "      <th>SCYL3</th>\n",
              "      <td>65</td>\n",
              "      <td>121</td>\n",
              "      <td>60</td>\n",
              "      <td>106</td>\n",
              "      <td>36</td>\n",
              "      <td>163</td>\n",
              "      <td>70</td>\n",
              "      <td>156</td>\n",
              "      <td>130</td>\n",
              "      <td>76</td>\n",
              "      <td>...</td>\n",
              "      <td>127</td>\n",
              "      <td>176</td>\n",
              "      <td>67</td>\n",
              "      <td>176</td>\n",
              "      <td>55</td>\n",
              "      <td>261</td>\n",
              "      <td>64</td>\n",
              "      <td>100</td>\n",
              "      <td>68</td>\n",
              "      <td>176.0</td>\n",
              "    </tr>\n",
              "    <tr>\n",
              "      <th>C1orf112</th>\n",
              "      <td>8</td>\n",
              "      <td>43</td>\n",
              "      <td>18</td>\n",
              "      <td>70</td>\n",
              "      <td>16</td>\n",
              "      <td>76</td>\n",
              "      <td>4</td>\n",
              "      <td>63</td>\n",
              "      <td>44</td>\n",
              "      <td>14</td>\n",
              "      <td>...</td>\n",
              "      <td>124</td>\n",
              "      <td>437</td>\n",
              "      <td>7</td>\n",
              "      <td>167</td>\n",
              "      <td>34</td>\n",
              "      <td>201</td>\n",
              "      <td>6</td>\n",
              "      <td>61</td>\n",
              "      <td>9</td>\n",
              "      <td>58.0</td>\n",
              "    </tr>\n",
              "  </tbody>\n",
              "</table>\n",
              "<p>5 rows × 40 columns</p>\n",
              "</div>\n",
              "      <button class=\"colab-df-convert\" onclick=\"convertToInteractive('df-8be14468-6258-464b-9882-2b2ee0b556f4')\"\n",
              "              title=\"Convert this dataframe to an interactive table.\"\n",
              "              style=\"display:none;\">\n",
              "        \n",
              "  <svg xmlns=\"http://www.w3.org/2000/svg\" height=\"24px\"viewBox=\"0 0 24 24\"\n",
              "       width=\"24px\">\n",
              "    <path d=\"M0 0h24v24H0V0z\" fill=\"none\"/>\n",
              "    <path d=\"M18.56 5.44l.94 2.06.94-2.06 2.06-.94-2.06-.94-.94-2.06-.94 2.06-2.06.94zm-11 1L8.5 8.5l.94-2.06 2.06-.94-2.06-.94L8.5 2.5l-.94 2.06-2.06.94zm10 10l.94 2.06.94-2.06 2.06-.94-2.06-.94-.94-2.06-.94 2.06-2.06.94z\"/><path d=\"M17.41 7.96l-1.37-1.37c-.4-.4-.92-.59-1.43-.59-.52 0-1.04.2-1.43.59L10.3 9.45l-7.72 7.72c-.78.78-.78 2.05 0 2.83L4 21.41c.39.39.9.59 1.41.59.51 0 1.02-.2 1.41-.59l7.78-7.78 2.81-2.81c.8-.78.8-2.07 0-2.86zM5.41 20L4 18.59l7.72-7.72 1.47 1.35L5.41 20z\"/>\n",
              "  </svg>\n",
              "      </button>\n",
              "      \n",
              "  <style>\n",
              "    .colab-df-container {\n",
              "      display:flex;\n",
              "      flex-wrap:wrap;\n",
              "      gap: 12px;\n",
              "    }\n",
              "\n",
              "    .colab-df-convert {\n",
              "      background-color: #E8F0FE;\n",
              "      border: none;\n",
              "      border-radius: 50%;\n",
              "      cursor: pointer;\n",
              "      display: none;\n",
              "      fill: #1967D2;\n",
              "      height: 32px;\n",
              "      padding: 0 0 0 0;\n",
              "      width: 32px;\n",
              "    }\n",
              "\n",
              "    .colab-df-convert:hover {\n",
              "      background-color: #E2EBFA;\n",
              "      box-shadow: 0px 1px 2px rgba(60, 64, 67, 0.3), 0px 1px 3px 1px rgba(60, 64, 67, 0.15);\n",
              "      fill: #174EA6;\n",
              "    }\n",
              "\n",
              "    [theme=dark] .colab-df-convert {\n",
              "      background-color: #3B4455;\n",
              "      fill: #D2E3FC;\n",
              "    }\n",
              "\n",
              "    [theme=dark] .colab-df-convert:hover {\n",
              "      background-color: #434B5C;\n",
              "      box-shadow: 0px 1px 3px 1px rgba(0, 0, 0, 0.15);\n",
              "      filter: drop-shadow(0px 1px 2px rgba(0, 0, 0, 0.3));\n",
              "      fill: #FFFFFF;\n",
              "    }\n",
              "  </style>\n",
              "\n",
              "      <script>\n",
              "        const buttonEl =\n",
              "          document.querySelector('#df-8be14468-6258-464b-9882-2b2ee0b556f4 button.colab-df-convert');\n",
              "        buttonEl.style.display =\n",
              "          google.colab.kernel.accessAllowed ? 'block' : 'none';\n",
              "\n",
              "        async function convertToInteractive(key) {\n",
              "          const element = document.querySelector('#df-8be14468-6258-464b-9882-2b2ee0b556f4');\n",
              "          const dataTable =\n",
              "            await google.colab.kernel.invokeFunction('convertToInteractive',\n",
              "                                                     [key], {});\n",
              "          if (!dataTable) return;\n",
              "\n",
              "          const docLinkHtml = 'Like what you see? Visit the ' +\n",
              "            '<a target=\"_blank\" href=https://colab.research.google.com/notebooks/data_table.ipynb>data table notebook</a>'\n",
              "            + ' to learn more about interactive tables.';\n",
              "          element.innerHTML = '';\n",
              "          dataTable['output_type'] = 'display_data';\n",
              "          await google.colab.output.renderOutput(dataTable, element);\n",
              "          const docLink = document.createElement('div');\n",
              "          docLink.innerHTML = docLinkHtml;\n",
              "          element.appendChild(docLink);\n",
              "        }\n",
              "      </script>\n",
              "    </div>\n",
              "  </div>\n",
              "  "
            ]
          },
          "metadata": {},
          "execution_count": 140
        }
      ]
    },
    {
      "cell_type": "markdown",
      "source": [
        "**1.1 Нахождение коэффициента корреляции числа каунтов между экспериментами RNA-Seq и Ribo-Seq**"
      ],
      "metadata": {
        "id": "ISM9gqvRIBkM"
      }
    },
    {
      "cell_type": "markdown",
      "source": [
        "Я выбрала корреляцию Спирмена, так как зависимость между переменными нелинейна"
      ],
      "metadata": {
        "id": "1Pf3doCzqSb8"
      }
    },
    {
      "cell_type": "code",
      "source": [
        "corr = pd.DataFrame()"
      ],
      "metadata": {
        "id": "ZvwJciZSpEN7"
      },
      "execution_count": 141,
      "outputs": []
    },
    {
      "cell_type": "code",
      "source": [
        "coef = []\n",
        "from scipy import stats\n",
        "for i in range(len(data)):\n",
        "  x = [] #массив для каунтов Ribo-Seq i-того гена\n",
        "  y = [] #массив для каунтов RNA-Seq i-того гена\n",
        "  count = 0\n",
        "  for col in range(1, 40, 2): #проход по датасету каунтов для корреляции методов\n",
        "    if count % 2 == 0:\n",
        "      x.extend((data.iloc[i, col - 1], data.iloc[i, col]))\n",
        "    else:\n",
        "      y.extend((data.iloc[i, col - 1], data.iloc[i, col]))\n",
        "    count += 1\n",
        "  coef.append(stats.spearmanr(x, y)[0])"
      ],
      "metadata": {
        "colab": {
          "base_uri": "https://localhost:8080/"
        },
        "id": "LoXVc_KJ3aSW",
        "outputId": "6f306b29-e9aa-480d-cfd6-26d3830216f8"
      },
      "execution_count": 142,
      "outputs": [
        {
          "output_type": "stream",
          "name": "stderr",
          "text": [
            "/usr/local/lib/python3.8/dist-packages/scipy/stats/stats.py:4484: SpearmanRConstantInputWarning: An input array is constant; the correlation coefficient is not defined.\n",
            "  warnings.warn(SpearmanRConstantInputWarning())\n"
          ]
        }
      ]
    },
    {
      "cell_type": "code",
      "source": [
        "data.index = genes\n",
        "corr['spearman'] = coef\n",
        "corr.index = genes\n",
        "corr"
      ],
      "metadata": {
        "colab": {
          "base_uri": "https://localhost:8080/",
          "height": 424
        },
        "id": "rYR_HBgaFUmA",
        "outputId": "3e0af480-2d5b-4000-dcc1-818e71f4a454"
      },
      "execution_count": 143,
      "outputs": [
        {
          "output_type": "execute_result",
          "data": {
            "text/plain": [
              "                spearman\n",
              "TSPAN6               NaN\n",
              "TNMD           -0.139424\n",
              "DPM1            0.849624\n",
              "SCYL3           0.697779\n",
              "C1orf112        0.811583\n",
              "...                  ...\n",
              "RP1-34B20.21    0.382301\n",
              "RP11-511P7.5    0.191364\n",
              "KLF18                NaN\n",
              "TRBV6-2              NaN\n",
              "RP11-736N17.11  0.443724\n",
              "\n",
              "[18945 rows x 1 columns]"
            ],
            "text/html": [
              "\n",
              "  <div id=\"df-5312de0b-a784-4646-a52e-a5ba1f268b1a\">\n",
              "    <div class=\"colab-df-container\">\n",
              "      <div>\n",
              "<style scoped>\n",
              "    .dataframe tbody tr th:only-of-type {\n",
              "        vertical-align: middle;\n",
              "    }\n",
              "\n",
              "    .dataframe tbody tr th {\n",
              "        vertical-align: top;\n",
              "    }\n",
              "\n",
              "    .dataframe thead th {\n",
              "        text-align: right;\n",
              "    }\n",
              "</style>\n",
              "<table border=\"1\" class=\"dataframe\">\n",
              "  <thead>\n",
              "    <tr style=\"text-align: right;\">\n",
              "      <th></th>\n",
              "      <th>spearman</th>\n",
              "    </tr>\n",
              "  </thead>\n",
              "  <tbody>\n",
              "    <tr>\n",
              "      <th>TSPAN6</th>\n",
              "      <td>NaN</td>\n",
              "    </tr>\n",
              "    <tr>\n",
              "      <th>TNMD</th>\n",
              "      <td>-0.139424</td>\n",
              "    </tr>\n",
              "    <tr>\n",
              "      <th>DPM1</th>\n",
              "      <td>0.849624</td>\n",
              "    </tr>\n",
              "    <tr>\n",
              "      <th>SCYL3</th>\n",
              "      <td>0.697779</td>\n",
              "    </tr>\n",
              "    <tr>\n",
              "      <th>C1orf112</th>\n",
              "      <td>0.811583</td>\n",
              "    </tr>\n",
              "    <tr>\n",
              "      <th>...</th>\n",
              "      <td>...</td>\n",
              "    </tr>\n",
              "    <tr>\n",
              "      <th>RP1-34B20.21</th>\n",
              "      <td>0.382301</td>\n",
              "    </tr>\n",
              "    <tr>\n",
              "      <th>RP11-511P7.5</th>\n",
              "      <td>0.191364</td>\n",
              "    </tr>\n",
              "    <tr>\n",
              "      <th>KLF18</th>\n",
              "      <td>NaN</td>\n",
              "    </tr>\n",
              "    <tr>\n",
              "      <th>TRBV6-2</th>\n",
              "      <td>NaN</td>\n",
              "    </tr>\n",
              "    <tr>\n",
              "      <th>RP11-736N17.11</th>\n",
              "      <td>0.443724</td>\n",
              "    </tr>\n",
              "  </tbody>\n",
              "</table>\n",
              "<p>18945 rows × 1 columns</p>\n",
              "</div>\n",
              "      <button class=\"colab-df-convert\" onclick=\"convertToInteractive('df-5312de0b-a784-4646-a52e-a5ba1f268b1a')\"\n",
              "              title=\"Convert this dataframe to an interactive table.\"\n",
              "              style=\"display:none;\">\n",
              "        \n",
              "  <svg xmlns=\"http://www.w3.org/2000/svg\" height=\"24px\"viewBox=\"0 0 24 24\"\n",
              "       width=\"24px\">\n",
              "    <path d=\"M0 0h24v24H0V0z\" fill=\"none\"/>\n",
              "    <path d=\"M18.56 5.44l.94 2.06.94-2.06 2.06-.94-2.06-.94-.94-2.06-.94 2.06-2.06.94zm-11 1L8.5 8.5l.94-2.06 2.06-.94-2.06-.94L8.5 2.5l-.94 2.06-2.06.94zm10 10l.94 2.06.94-2.06 2.06-.94-2.06-.94-.94-2.06-.94 2.06-2.06.94z\"/><path d=\"M17.41 7.96l-1.37-1.37c-.4-.4-.92-.59-1.43-.59-.52 0-1.04.2-1.43.59L10.3 9.45l-7.72 7.72c-.78.78-.78 2.05 0 2.83L4 21.41c.39.39.9.59 1.41.59.51 0 1.02-.2 1.41-.59l7.78-7.78 2.81-2.81c.8-.78.8-2.07 0-2.86zM5.41 20L4 18.59l7.72-7.72 1.47 1.35L5.41 20z\"/>\n",
              "  </svg>\n",
              "      </button>\n",
              "      \n",
              "  <style>\n",
              "    .colab-df-container {\n",
              "      display:flex;\n",
              "      flex-wrap:wrap;\n",
              "      gap: 12px;\n",
              "    }\n",
              "\n",
              "    .colab-df-convert {\n",
              "      background-color: #E8F0FE;\n",
              "      border: none;\n",
              "      border-radius: 50%;\n",
              "      cursor: pointer;\n",
              "      display: none;\n",
              "      fill: #1967D2;\n",
              "      height: 32px;\n",
              "      padding: 0 0 0 0;\n",
              "      width: 32px;\n",
              "    }\n",
              "\n",
              "    .colab-df-convert:hover {\n",
              "      background-color: #E2EBFA;\n",
              "      box-shadow: 0px 1px 2px rgba(60, 64, 67, 0.3), 0px 1px 3px 1px rgba(60, 64, 67, 0.15);\n",
              "      fill: #174EA6;\n",
              "    }\n",
              "\n",
              "    [theme=dark] .colab-df-convert {\n",
              "      background-color: #3B4455;\n",
              "      fill: #D2E3FC;\n",
              "    }\n",
              "\n",
              "    [theme=dark] .colab-df-convert:hover {\n",
              "      background-color: #434B5C;\n",
              "      box-shadow: 0px 1px 3px 1px rgba(0, 0, 0, 0.15);\n",
              "      filter: drop-shadow(0px 1px 2px rgba(0, 0, 0, 0.3));\n",
              "      fill: #FFFFFF;\n",
              "    }\n",
              "  </style>\n",
              "\n",
              "      <script>\n",
              "        const buttonEl =\n",
              "          document.querySelector('#df-5312de0b-a784-4646-a52e-a5ba1f268b1a button.colab-df-convert');\n",
              "        buttonEl.style.display =\n",
              "          google.colab.kernel.accessAllowed ? 'block' : 'none';\n",
              "\n",
              "        async function convertToInteractive(key) {\n",
              "          const element = document.querySelector('#df-5312de0b-a784-4646-a52e-a5ba1f268b1a');\n",
              "          const dataTable =\n",
              "            await google.colab.kernel.invokeFunction('convertToInteractive',\n",
              "                                                     [key], {});\n",
              "          if (!dataTable) return;\n",
              "\n",
              "          const docLinkHtml = 'Like what you see? Visit the ' +\n",
              "            '<a target=\"_blank\" href=https://colab.research.google.com/notebooks/data_table.ipynb>data table notebook</a>'\n",
              "            + ' to learn more about interactive tables.';\n",
              "          element.innerHTML = '';\n",
              "          dataTable['output_type'] = 'display_data';\n",
              "          await google.colab.output.renderOutput(dataTable, element);\n",
              "          const docLink = document.createElement('div');\n",
              "          docLink.innerHTML = docLinkHtml;\n",
              "          element.appendChild(docLink);\n",
              "        }\n",
              "      </script>\n",
              "    </div>\n",
              "  </div>\n",
              "  "
            ]
          },
          "metadata": {},
          "execution_count": 143
        }
      ]
    },
    {
      "cell_type": "markdown",
      "source": [
        "### **1.2 Гистограмма распределения коэффициентов корреляции**"
      ],
      "metadata": {
        "id": "BKtUKRkYIFJn"
      }
    },
    {
      "cell_type": "code",
      "source": [
        "sns.histplot(data=corr)"
      ],
      "metadata": {
        "colab": {
          "base_uri": "https://localhost:8080/",
          "height": 283
        },
        "id": "0iflkdXvoICx",
        "outputId": "4b9705a4-cf78-4a47-c3ad-0e6ee9f1949c"
      },
      "execution_count": 144,
      "outputs": [
        {
          "output_type": "execute_result",
          "data": {
            "text/plain": [
              "<matplotlib.axes._subplots.AxesSubplot at 0x7fd5e818cc10>"
            ]
          },
          "metadata": {},
          "execution_count": 144
        },
        {
          "output_type": "display_data",
          "data": {
            "text/plain": [
              "<Figure size 432x288 with 1 Axes>"
            ],
            "image/png": "[encoded data removed]"
          },
          "metadata": {
            "needs_background": "light"
          }
        }
      ]
    },
    {
      "cell_type": "code",
      "source": [
        "corr_low = corr.sort_values('spearman', ascending = True)\n",
        "corr_low.head()"
      ],
      "metadata": {
        "colab": {
          "base_uri": "https://localhost:8080/",
          "height": 206
        },
        "id": "UUzIx741MSMt",
        "outputId": "3d6cb0c7-d5c1-4f48-b9e9-c1c99079385b"
      },
      "execution_count": 145,
      "outputs": [
        {
          "output_type": "execute_result",
          "data": {
            "text/plain": [
              "          spearman\n",
              "LAT      -0.599996\n",
              "RPH3A    -0.588242\n",
              "C14orf28 -0.587297\n",
              "SOX8     -0.561372\n",
              "REM2     -0.551351"
            ],
            "text/html": [
              "\n",
              "  <div id=\"df-9077ab70-b6f2-4401-8159-f9df79538a03\">\n",
              "    <div class=\"colab-df-container\">\n",
              "      <div>\n",
              "<style scoped>\n",
              "    .dataframe tbody tr th:only-of-type {\n",
              "        vertical-align: middle;\n",
              "    }\n",
              "\n",
              "    .dataframe tbody tr th {\n",
              "        vertical-align: top;\n",
              "    }\n",
              "\n",
              "    .dataframe thead th {\n",
              "        text-align: right;\n",
              "    }\n",
              "</style>\n",
              "<table border=\"1\" class=\"dataframe\">\n",
              "  <thead>\n",
              "    <tr style=\"text-align: right;\">\n",
              "      <th></th>\n",
              "      <th>spearman</th>\n",
              "    </tr>\n",
              "  </thead>\n",
              "  <tbody>\n",
              "    <tr>\n",
              "      <th>LAT</th>\n",
              "      <td>-0.599996</td>\n",
              "    </tr>\n",
              "    <tr>\n",
              "      <th>RPH3A</th>\n",
              "      <td>-0.588242</td>\n",
              "    </tr>\n",
              "    <tr>\n",
              "      <th>C14orf28</th>\n",
              "      <td>-0.587297</td>\n",
              "    </tr>\n",
              "    <tr>\n",
              "      <th>SOX8</th>\n",
              "      <td>-0.561372</td>\n",
              "    </tr>\n",
              "    <tr>\n",
              "      <th>REM2</th>\n",
              "      <td>-0.551351</td>\n",
              "    </tr>\n",
              "  </tbody>\n",
              "</table>\n",
              "</div>\n",
              "      <button class=\"colab-df-convert\" onclick=\"convertToInteractive('df-9077ab70-b6f2-4401-8159-f9df79538a03')\"\n",
              "              title=\"Convert this dataframe to an interactive table.\"\n",
              "              style=\"display:none;\">\n",
              "        \n",
              "  <svg xmlns=\"http://www.w3.org/2000/svg\" height=\"24px\"viewBox=\"0 0 24 24\"\n",
              "       width=\"24px\">\n",
              "    <path d=\"M0 0h24v24H0V0z\" fill=\"none\"/>\n",
              "    <path d=\"M18.56 5.44l.94 2.06.94-2.06 2.06-.94-2.06-.94-.94-2.06-.94 2.06-2.06.94zm-11 1L8.5 8.5l.94-2.06 2.06-.94-2.06-.94L8.5 2.5l-.94 2.06-2.06.94zm10 10l.94 2.06.94-2.06 2.06-.94-2.06-.94-.94-2.06-.94 2.06-2.06.94z\"/><path d=\"M17.41 7.96l-1.37-1.37c-.4-.4-.92-.59-1.43-.59-.52 0-1.04.2-1.43.59L10.3 9.45l-7.72 7.72c-.78.78-.78 2.05 0 2.83L4 21.41c.39.39.9.59 1.41.59.51 0 1.02-.2 1.41-.59l7.78-7.78 2.81-2.81c.8-.78.8-2.07 0-2.86zM5.41 20L4 18.59l7.72-7.72 1.47 1.35L5.41 20z\"/>\n",
              "  </svg>\n",
              "      </button>\n",
              "      \n",
              "  <style>\n",
              "    .colab-df-container {\n",
              "      display:flex;\n",
              "      flex-wrap:wrap;\n",
              "      gap: 12px;\n",
              "    }\n",
              "\n",
              "    .colab-df-convert {\n",
              "      background-color: #E8F0FE;\n",
              "      border: none;\n",
              "      border-radius: 50%;\n",
              "      cursor: pointer;\n",
              "      display: none;\n",
              "      fill: #1967D2;\n",
              "      height: 32px;\n",
              "      padding: 0 0 0 0;\n",
              "      width: 32px;\n",
              "    }\n",
              "\n",
              "    .colab-df-convert:hover {\n",
              "      background-color: #E2EBFA;\n",
              "      box-shadow: 0px 1px 2px rgba(60, 64, 67, 0.3), 0px 1px 3px 1px rgba(60, 64, 67, 0.15);\n",
              "      fill: #174EA6;\n",
              "    }\n",
              "\n",
              "    [theme=dark] .colab-df-convert {\n",
              "      background-color: #3B4455;\n",
              "      fill: #D2E3FC;\n",
              "    }\n",
              "\n",
              "    [theme=dark] .colab-df-convert:hover {\n",
              "      background-color: #434B5C;\n",
              "      box-shadow: 0px 1px 3px 1px rgba(0, 0, 0, 0.15);\n",
              "      filter: drop-shadow(0px 1px 2px rgba(0, 0, 0, 0.3));\n",
              "      fill: #FFFFFF;\n",
              "    }\n",
              "  </style>\n",
              "\n",
              "      <script>\n",
              "        const buttonEl =\n",
              "          document.querySelector('#df-9077ab70-b6f2-4401-8159-f9df79538a03 button.colab-df-convert');\n",
              "        buttonEl.style.display =\n",
              "          google.colab.kernel.accessAllowed ? 'block' : 'none';\n",
              "\n",
              "        async function convertToInteractive(key) {\n",
              "          const element = document.querySelector('#df-9077ab70-b6f2-4401-8159-f9df79538a03');\n",
              "          const dataTable =\n",
              "            await google.colab.kernel.invokeFunction('convertToInteractive',\n",
              "                                                     [key], {});\n",
              "          if (!dataTable) return;\n",
              "\n",
              "          const docLinkHtml = 'Like what you see? Visit the ' +\n",
              "            '<a target=\"_blank\" href=https://colab.research.google.com/notebooks/data_table.ipynb>data table notebook</a>'\n",
              "            + ' to learn more about interactive tables.';\n",
              "          element.innerHTML = '';\n",
              "          dataTable['output_type'] = 'display_data';\n",
              "          await google.colab.output.renderOutput(dataTable, element);\n",
              "          const docLink = document.createElement('div');\n",
              "          docLink.innerHTML = docLinkHtml;\n",
              "          element.appendChild(docLink);\n",
              "        }\n",
              "      </script>\n",
              "    </div>\n",
              "  </div>\n",
              "  "
            ]
          },
          "metadata": {},
          "execution_count": 145
        }
      ]
    },
    {
      "cell_type": "markdown",
      "source": [
        "Самая низкая корреляция для генов LAT, RPH3A, C14orf28, SOX8 и REM2"
      ],
      "metadata": {
        "id": "MUvTTcaTrOLI"
      }
    },
    {
      "cell_type": "code",
      "source": [
        "corr_high = corr.sort_values('spearman', ascending = False)\n",
        "corr_high.head()"
      ],
      "metadata": {
        "colab": {
          "base_uri": "https://localhost:8080/",
          "height": 206
        },
        "id": "hjzrQsvPq_2j",
        "outputId": "b1d2fac1-ab42-4587-c508-74d6fb5640f1"
      },
      "execution_count": 146,
      "outputs": [
        {
          "output_type": "execute_result",
          "data": {
            "text/plain": [
              "         spearman\n",
              "TRIM60        1.0\n",
              "RFPL4B        1.0\n",
              "GAGE10        1.0\n",
              "FAM46D        1.0\n",
              "SCGB1D2       1.0"
            ],
            "text/html": [
              "\n",
              "  <div id=\"df-a60fa03c-ae39-424a-b438-dd4b673e22c0\">\n",
              "    <div class=\"colab-df-container\">\n",
              "      <div>\n",
              "<style scoped>\n",
              "    .dataframe tbody tr th:only-of-type {\n",
              "        vertical-align: middle;\n",
              "    }\n",
              "\n",
              "    .dataframe tbody tr th {\n",
              "        vertical-align: top;\n",
              "    }\n",
              "\n",
              "    .dataframe thead th {\n",
              "        text-align: right;\n",
              "    }\n",
              "</style>\n",
              "<table border=\"1\" class=\"dataframe\">\n",
              "  <thead>\n",
              "    <tr style=\"text-align: right;\">\n",
              "      <th></th>\n",
              "      <th>spearman</th>\n",
              "    </tr>\n",
              "  </thead>\n",
              "  <tbody>\n",
              "    <tr>\n",
              "      <th>TRIM60</th>\n",
              "      <td>1.0</td>\n",
              "    </tr>\n",
              "    <tr>\n",
              "      <th>RFPL4B</th>\n",
              "      <td>1.0</td>\n",
              "    </tr>\n",
              "    <tr>\n",
              "      <th>GAGE10</th>\n",
              "      <td>1.0</td>\n",
              "    </tr>\n",
              "    <tr>\n",
              "      <th>FAM46D</th>\n",
              "      <td>1.0</td>\n",
              "    </tr>\n",
              "    <tr>\n",
              "      <th>SCGB1D2</th>\n",
              "      <td>1.0</td>\n",
              "    </tr>\n",
              "  </tbody>\n",
              "</table>\n",
              "</div>\n",
              "      <button class=\"colab-df-convert\" onclick=\"convertToInteractive('df-a60fa03c-ae39-424a-b438-dd4b673e22c0')\"\n",
              "              title=\"Convert this dataframe to an interactive table.\"\n",
              "              style=\"display:none;\">\n",
              "        \n",
              "  <svg xmlns=\"http://www.w3.org/2000/svg\" height=\"24px\"viewBox=\"0 0 24 24\"\n",
              "       width=\"24px\">\n",
              "    <path d=\"M0 0h24v24H0V0z\" fill=\"none\"/>\n",
              "    <path d=\"M18.56 5.44l.94 2.06.94-2.06 2.06-.94-2.06-.94-.94-2.06-.94 2.06-2.06.94zm-11 1L8.5 8.5l.94-2.06 2.06-.94-2.06-.94L8.5 2.5l-.94 2.06-2.06.94zm10 10l.94 2.06.94-2.06 2.06-.94-2.06-.94-.94-2.06-.94 2.06-2.06.94z\"/><path d=\"M17.41 7.96l-1.37-1.37c-.4-.4-.92-.59-1.43-.59-.52 0-1.04.2-1.43.59L10.3 9.45l-7.72 7.72c-.78.78-.78 2.05 0 2.83L4 21.41c.39.39.9.59 1.41.59.51 0 1.02-.2 1.41-.59l7.78-7.78 2.81-2.81c.8-.78.8-2.07 0-2.86zM5.41 20L4 18.59l7.72-7.72 1.47 1.35L5.41 20z\"/>\n",
              "  </svg>\n",
              "      </button>\n",
              "      \n",
              "  <style>\n",
              "    .colab-df-container {\n",
              "      display:flex;\n",
              "      flex-wrap:wrap;\n",
              "      gap: 12px;\n",
              "    }\n",
              "\n",
              "    .colab-df-convert {\n",
              "      background-color: #E8F0FE;\n",
              "      border: none;\n",
              "      border-radius: 50%;\n",
              "      cursor: pointer;\n",
              "      display: none;\n",
              "      fill: #1967D2;\n",
              "      height: 32px;\n",
              "      padding: 0 0 0 0;\n",
              "      width: 32px;\n",
              "    }\n",
              "\n",
              "    .colab-df-convert:hover {\n",
              "      background-color: #E2EBFA;\n",
              "      box-shadow: 0px 1px 2px rgba(60, 64, 67, 0.3), 0px 1px 3px 1px rgba(60, 64, 67, 0.15);\n",
              "      fill: #174EA6;\n",
              "    }\n",
              "\n",
              "    [theme=dark] .colab-df-convert {\n",
              "      background-color: #3B4455;\n",
              "      fill: #D2E3FC;\n",
              "    }\n",
              "\n",
              "    [theme=dark] .colab-df-convert:hover {\n",
              "      background-color: #434B5C;\n",
              "      box-shadow: 0px 1px 3px 1px rgba(0, 0, 0, 0.15);\n",
              "      filter: drop-shadow(0px 1px 2px rgba(0, 0, 0, 0.3));\n",
              "      fill: #FFFFFF;\n",
              "    }\n",
              "  </style>\n",
              "\n",
              "      <script>\n",
              "        const buttonEl =\n",
              "          document.querySelector('#df-a60fa03c-ae39-424a-b438-dd4b673e22c0 button.colab-df-convert');\n",
              "        buttonEl.style.display =\n",
              "          google.colab.kernel.accessAllowed ? 'block' : 'none';\n",
              "\n",
              "        async function convertToInteractive(key) {\n",
              "          const element = document.querySelector('#df-a60fa03c-ae39-424a-b438-dd4b673e22c0');\n",
              "          const dataTable =\n",
              "            await google.colab.kernel.invokeFunction('convertToInteractive',\n",
              "                                                     [key], {});\n",
              "          if (!dataTable) return;\n",
              "\n",
              "          const docLinkHtml = 'Like what you see? Visit the ' +\n",
              "            '<a target=\"_blank\" href=https://colab.research.google.com/notebooks/data_table.ipynb>data table notebook</a>'\n",
              "            + ' to learn more about interactive tables.';\n",
              "          element.innerHTML = '';\n",
              "          dataTable['output_type'] = 'display_data';\n",
              "          await google.colab.output.renderOutput(dataTable, element);\n",
              "          const docLink = document.createElement('div');\n",
              "          docLink.innerHTML = docLinkHtml;\n",
              "          element.appendChild(docLink);\n",
              "        }\n",
              "      </script>\n",
              "    </div>\n",
              "  </div>\n",
              "  "
            ]
          },
          "metadata": {},
          "execution_count": 146
        }
      ]
    },
    {
      "cell_type": "markdown",
      "source": [
        "Самая высокая корреляция для генов TRIM60, RFPL4B, GAGE10, FAM46D и SCGB1D2"
      ],
      "metadata": {
        "id": "o_SK3_jMrax7"
      }
    },
    {
      "cell_type": "markdown",
      "source": [
        "Посмотрев на каунты генов с высокой корреляцией видно, что большинство значений как для RNA-Seq, так и для Ribo-Seq нулевые. Поэтому получилась высокая корреляция числа каунтов. \n",
        "\n",
        "А для генов с низкой корреляции для все RNA-Seq экспериментов есть ненулевые значения, когда для Ribo-Seq почти все значения нулевые.\n",
        "\n",
        "Биологический смысл в случае генов с низкой корреляцией может быть такой: так как для Ribo-Seq нулевые каунты, а для RNA-Seq нет, то после экспрессии РНК трансляция не проходит."
      ],
      "metadata": {
        "id": "0eshbi0etW2A"
      }
    },
    {
      "cell_type": "markdown",
      "source": [
        "### **1.3 Распределение каунтов Ribo-seq**"
      ],
      "metadata": {
        "id": "f-rfmT3XuE4e"
      }
    },
    {
      "cell_type": "code",
      "source": [
        "rpf_data = data.filter(regex='RPF')\n",
        "rpf_data.head()"
      ],
      "metadata": {
        "colab": {
          "base_uri": "https://localhost:8080/",
          "height": 305
        },
        "id": "KDnY-kxhaJ3-",
        "outputId": "6723bea2-f892-43e9-b5a1-99738f0f5b01"
      },
      "execution_count": 147,
      "outputs": [
        {
          "output_type": "execute_result",
          "data": {
            "text/plain": [
              "          LC001-normal-RPF  LC001-tumor-RPF  LC033-normal-RPF  \\\n",
              "TSPAN6                   0                0                 0   \n",
              "TNMD                     0                0                 0   \n",
              "DPM1                   168              239               114   \n",
              "SCYL3                   65              121                36   \n",
              "C1orf112                 8               43                16   \n",
              "\n",
              "          LC033-tumor-RPF  LC034-normal-RPF  LC034-tumor-RPF  \\\n",
              "TSPAN6                  0                 0                0   \n",
              "TNMD                    0                 0                0   \n",
              "DPM1                  439               325              117   \n",
              "SCYL3                 163               130               76   \n",
              "C1orf112               76                44               14   \n",
              "\n",
              "          LC501-normal-RPF  LC501-tumor-RPF  LC502-normal-RPF  \\\n",
              "TSPAN6                   0                0                 0   \n",
              "TNMD                     0                0                 0   \n",
              "DPM1                   106              192               118   \n",
              "SCYL3                   34               43                84   \n",
              "C1orf112                 5               27                24   \n",
              "\n",
              "          LC502-tumor-RPF  LC505-normal-RPF  LC505-tumor-RPF  \\\n",
              "TSPAN6                  0                 0                0   \n",
              "TNMD                    2                 0                0   \n",
              "DPM1                  292               159              237   \n",
              "SCYL3                 221                74              185   \n",
              "C1orf112               42                10               71   \n",
              "\n",
              "          LC506-normal-RPF  LC506-tumor-RPF  LC507-normal-RPF  \\\n",
              "TSPAN6                   0                0                 0   \n",
              "TNMD                     0                0                 0   \n",
              "DPM1                   149              230               169   \n",
              "SCYL3                   65               98                81   \n",
              "C1orf112                18              103                79   \n",
              "\n",
              "          LC507-tumor-RPF  LC508-normal-RPF  LC508-tumor-RPF  \\\n",
              "TSPAN6                  0                 0                0   \n",
              "TNMD                    0                 1                0   \n",
              "DPM1                  260               109              357   \n",
              "SCYL3                 105                67              176   \n",
              "C1orf112              225                 7              167   \n",
              "\n",
              "          LC509-normal-RPF  LC509-tumor-RPF  \n",
              "TSPAN6                   0                0  \n",
              "TNMD                     0                0  \n",
              "DPM1                   141              173  \n",
              "SCYL3                   64              100  \n",
              "C1orf112                 6               61  "
            ],
            "text/html": [
              "\n",
              "  <div id=\"df-9031a74e-0fec-42e5-b486-6c865f1fce82\">\n",
              "    <div class=\"colab-df-container\">\n",
              "      <div>\n",
              "<style scoped>\n",
              "    .dataframe tbody tr th:only-of-type {\n",
              "        vertical-align: middle;\n",
              "    }\n",
              "\n",
              "    .dataframe tbody tr th {\n",
              "        vertical-align: top;\n",
              "    }\n",
              "\n",
              "    .dataframe thead th {\n",
              "        text-align: right;\n",
              "    }\n",
              "</style>\n",
              "<table border=\"1\" class=\"dataframe\">\n",
              "  <thead>\n",
              "    <tr style=\"text-align: right;\">\n",
              "      <th></th>\n",
              "      <th>LC001-normal-RPF</th>\n",
              "      <th>LC001-tumor-RPF</th>\n",
              "      <th>LC033-normal-RPF</th>\n",
              "      <th>LC033-tumor-RPF</th>\n",
              "      <th>LC034-normal-RPF</th>\n",
              "      <th>LC034-tumor-RPF</th>\n",
              "      <th>LC501-normal-RPF</th>\n",
              "      <th>LC501-tumor-RPF</th>\n",
              "      <th>LC502-normal-RPF</th>\n",
              "      <th>LC502-tumor-RPF</th>\n",
              "      <th>LC505-normal-RPF</th>\n",
              "      <th>LC505-tumor-RPF</th>\n",
              "      <th>LC506-normal-RPF</th>\n",
              "      <th>LC506-tumor-RPF</th>\n",
              "      <th>LC507-normal-RPF</th>\n",
              "      <th>LC507-tumor-RPF</th>\n",
              "      <th>LC508-normal-RPF</th>\n",
              "      <th>LC508-tumor-RPF</th>\n",
              "      <th>LC509-normal-RPF</th>\n",
              "      <th>LC509-tumor-RPF</th>\n",
              "    </tr>\n",
              "  </thead>\n",
              "  <tbody>\n",
              "    <tr>\n",
              "      <th>TSPAN6</th>\n",
              "      <td>0</td>\n",
              "      <td>0</td>\n",
              "      <td>0</td>\n",
              "      <td>0</td>\n",
              "      <td>0</td>\n",
              "      <td>0</td>\n",
              "      <td>0</td>\n",
              "      <td>0</td>\n",
              "      <td>0</td>\n",
              "      <td>0</td>\n",
              "      <td>0</td>\n",
              "      <td>0</td>\n",
              "      <td>0</td>\n",
              "      <td>0</td>\n",
              "      <td>0</td>\n",
              "      <td>0</td>\n",
              "      <td>0</td>\n",
              "      <td>0</td>\n",
              "      <td>0</td>\n",
              "      <td>0</td>\n",
              "    </tr>\n",
              "    <tr>\n",
              "      <th>TNMD</th>\n",
              "      <td>0</td>\n",
              "      <td>0</td>\n",
              "      <td>0</td>\n",
              "      <td>0</td>\n",
              "      <td>0</td>\n",
              "      <td>0</td>\n",
              "      <td>0</td>\n",
              "      <td>0</td>\n",
              "      <td>0</td>\n",
              "      <td>2</td>\n",
              "      <td>0</td>\n",
              "      <td>0</td>\n",
              "      <td>0</td>\n",
              "      <td>0</td>\n",
              "      <td>0</td>\n",
              "      <td>0</td>\n",
              "      <td>1</td>\n",
              "      <td>0</td>\n",
              "      <td>0</td>\n",
              "      <td>0</td>\n",
              "    </tr>\n",
              "    <tr>\n",
              "      <th>DPM1</th>\n",
              "      <td>168</td>\n",
              "      <td>239</td>\n",
              "      <td>114</td>\n",
              "      <td>439</td>\n",
              "      <td>325</td>\n",
              "      <td>117</td>\n",
              "      <td>106</td>\n",
              "      <td>192</td>\n",
              "      <td>118</td>\n",
              "      <td>292</td>\n",
              "      <td>159</td>\n",
              "      <td>237</td>\n",
              "      <td>149</td>\n",
              "      <td>230</td>\n",
              "      <td>169</td>\n",
              "      <td>260</td>\n",
              "      <td>109</td>\n",
              "      <td>357</td>\n",
              "      <td>141</td>\n",
              "      <td>173</td>\n",
              "    </tr>\n",
              "    <tr>\n",
              "      <th>SCYL3</th>\n",
              "      <td>65</td>\n",
              "      <td>121</td>\n",
              "      <td>36</td>\n",
              "      <td>163</td>\n",
              "      <td>130</td>\n",
              "      <td>76</td>\n",
              "      <td>34</td>\n",
              "      <td>43</td>\n",
              "      <td>84</td>\n",
              "      <td>221</td>\n",
              "      <td>74</td>\n",
              "      <td>185</td>\n",
              "      <td>65</td>\n",
              "      <td>98</td>\n",
              "      <td>81</td>\n",
              "      <td>105</td>\n",
              "      <td>67</td>\n",
              "      <td>176</td>\n",
              "      <td>64</td>\n",
              "      <td>100</td>\n",
              "    </tr>\n",
              "    <tr>\n",
              "      <th>C1orf112</th>\n",
              "      <td>8</td>\n",
              "      <td>43</td>\n",
              "      <td>16</td>\n",
              "      <td>76</td>\n",
              "      <td>44</td>\n",
              "      <td>14</td>\n",
              "      <td>5</td>\n",
              "      <td>27</td>\n",
              "      <td>24</td>\n",
              "      <td>42</td>\n",
              "      <td>10</td>\n",
              "      <td>71</td>\n",
              "      <td>18</td>\n",
              "      <td>103</td>\n",
              "      <td>79</td>\n",
              "      <td>225</td>\n",
              "      <td>7</td>\n",
              "      <td>167</td>\n",
              "      <td>6</td>\n",
              "      <td>61</td>\n",
              "    </tr>\n",
              "  </tbody>\n",
              "</table>\n",
              "</div>\n",
              "      <button class=\"colab-df-convert\" onclick=\"convertToInteractive('df-9031a74e-0fec-42e5-b486-6c865f1fce82')\"\n",
              "              title=\"Convert this dataframe to an interactive table.\"\n",
              "              style=\"display:none;\">\n",
              "        \n",
              "  <svg xmlns=\"http://www.w3.org/2000/svg\" height=\"24px\"viewBox=\"0 0 24 24\"\n",
              "       width=\"24px\">\n",
              "    <path d=\"M0 0h24v24H0V0z\" fill=\"none\"/>\n",
              "    <path d=\"M18.56 5.44l.94 2.06.94-2.06 2.06-.94-2.06-.94-.94-2.06-.94 2.06-2.06.94zm-11 1L8.5 8.5l.94-2.06 2.06-.94-2.06-.94L8.5 2.5l-.94 2.06-2.06.94zm10 10l.94 2.06.94-2.06 2.06-.94-2.06-.94-.94-2.06-.94 2.06-2.06.94z\"/><path d=\"M17.41 7.96l-1.37-1.37c-.4-.4-.92-.59-1.43-.59-.52 0-1.04.2-1.43.59L10.3 9.45l-7.72 7.72c-.78.78-.78 2.05 0 2.83L4 21.41c.39.39.9.59 1.41.59.51 0 1.02-.2 1.41-.59l7.78-7.78 2.81-2.81c.8-.78.8-2.07 0-2.86zM5.41 20L4 18.59l7.72-7.72 1.47 1.35L5.41 20z\"/>\n",
              "  </svg>\n",
              "      </button>\n",
              "      \n",
              "  <style>\n",
              "    .colab-df-container {\n",
              "      display:flex;\n",
              "      flex-wrap:wrap;\n",
              "      gap: 12px;\n",
              "    }\n",
              "\n",
              "    .colab-df-convert {\n",
              "      background-color: #E8F0FE;\n",
              "      border: none;\n",
              "      border-radius: 50%;\n",
              "      cursor: pointer;\n",
              "      display: none;\n",
              "      fill: #1967D2;\n",
              "      height: 32px;\n",
              "      padding: 0 0 0 0;\n",
              "      width: 32px;\n",
              "    }\n",
              "\n",
              "    .colab-df-convert:hover {\n",
              "      background-color: #E2EBFA;\n",
              "      box-shadow: 0px 1px 2px rgba(60, 64, 67, 0.3), 0px 1px 3px 1px rgba(60, 64, 67, 0.15);\n",
              "      fill: #174EA6;\n",
              "    }\n",
              "\n",
              "    [theme=dark] .colab-df-convert {\n",
              "      background-color: #3B4455;\n",
              "      fill: #D2E3FC;\n",
              "    }\n",
              "\n",
              "    [theme=dark] .colab-df-convert:hover {\n",
              "      background-color: #434B5C;\n",
              "      box-shadow: 0px 1px 3px 1px rgba(0, 0, 0, 0.15);\n",
              "      filter: drop-shadow(0px 1px 2px rgba(0, 0, 0, 0.3));\n",
              "      fill: #FFFFFF;\n",
              "    }\n",
              "  </style>\n",
              "\n",
              "      <script>\n",
              "        const buttonEl =\n",
              "          document.querySelector('#df-9031a74e-0fec-42e5-b486-6c865f1fce82 button.colab-df-convert');\n",
              "        buttonEl.style.display =\n",
              "          google.colab.kernel.accessAllowed ? 'block' : 'none';\n",
              "\n",
              "        async function convertToInteractive(key) {\n",
              "          const element = document.querySelector('#df-9031a74e-0fec-42e5-b486-6c865f1fce82');\n",
              "          const dataTable =\n",
              "            await google.colab.kernel.invokeFunction('convertToInteractive',\n",
              "                                                     [key], {});\n",
              "          if (!dataTable) return;\n",
              "\n",
              "          const docLinkHtml = 'Like what you see? Visit the ' +\n",
              "            '<a target=\"_blank\" href=https://colab.research.google.com/notebooks/data_table.ipynb>data table notebook</a>'\n",
              "            + ' to learn more about interactive tables.';\n",
              "          element.innerHTML = '';\n",
              "          dataTable['output_type'] = 'display_data';\n",
              "          await google.colab.output.renderOutput(dataTable, element);\n",
              "          const docLink = document.createElement('div');\n",
              "          docLink.innerHTML = docLinkHtml;\n",
              "          element.appendChild(docLink);\n",
              "        }\n",
              "      </script>\n",
              "    </div>\n",
              "  </div>\n",
              "  "
            ]
          },
          "metadata": {},
          "execution_count": 147
        }
      ]
    },
    {
      "cell_type": "code",
      "source": [
        "#расчет диспресии и среднего\n",
        "rpf_data = rpf_data.loc[~rpf_data.index.duplicated(), :]\n",
        "var = np.var(rpf_data, axis = 1)\n",
        "mean = np.mean(rpf_data, axis = 1)"
      ],
      "metadata": {
        "id": "6YqCVzm0gX-9"
      },
      "execution_count": 148,
      "outputs": []
    },
    {
      "cell_type": "code",
      "source": [
        "fig, ax = plt.subplots(figsize=(10, 8))\n",
        "ax.set_xlabel('Среднее')\n",
        "ax.set_ylabel('Дисперсия')\n",
        "\n",
        "xlog = np.log(mean)\n",
        "ylog = np.log(var)\n",
        "\n",
        "sns.barplot(xlog, ylog).set(xticklabels=[])"
      ],
      "metadata": {
        "colab": {
          "base_uri": "https://localhost:8080/",
          "height": 632
        },
        "id": "NgARoUmZpTKz",
        "outputId": "784fdb16-a795-4f18-d9d4-55da59955c77"
      },
      "execution_count": 149,
      "outputs": [
        {
          "output_type": "stream",
          "name": "stderr",
          "text": [
            "/usr/local/lib/python3.8/dist-packages/pandas/core/arraylike.py:364: RuntimeWarning: divide by zero encountered in log\n",
            "  result = getattr(ufunc, method)(*inputs, **kwargs)\n",
            "/usr/local/lib/python3.8/dist-packages/seaborn/_decorators.py:36: FutureWarning: Pass the following variables as keyword args: x, y. From version 0.12, the only valid positional argument will be `data`, and passing other arguments without an explicit keyword will result in an error or misinterpretation.\n",
            "  warnings.warn(\n",
            "/usr/local/lib/python3.8/dist-packages/numpy/lib/function_base.py:4009: RuntimeWarning: invalid value encountered in subtract\n",
            "  diff_b_a = subtract(b, a)\n"
          ]
        },
        {
          "output_type": "execute_result",
          "data": {
            "text/plain": [
              "[[]]"
            ]
          },
          "metadata": {},
          "execution_count": 149
        },
        {
          "output_type": "display_data",
          "data": {
            "text/plain": [
              "<Figure size 720x576 with 1 Axes>"
            ],
            "image/png": "[encoded data removed]"
          },
          "metadata": {
            "needs_background": "light"
          }
        }
      ]
    },
    {
      "cell_type": "code",
      "source": [
        "fig, ax = plt.subplots(figsize=(10, 8))\n",
        "ax.set_xlabel('Среднее')\n",
        "ax.set_ylabel('Дисперсия')\n",
        "\n",
        "plt.scatter(xlog, ylog)"
      ],
      "metadata": {
        "colab": {
          "base_uri": "https://localhost:8080/",
          "height": 515
        },
        "id": "dK8fyInsmTfI",
        "outputId": "a8a80c72-8d0d-46d5-ec77-c1686c857856"
      },
      "execution_count": 150,
      "outputs": [
        {
          "output_type": "execute_result",
          "data": {
            "text/plain": [
              "<matplotlib.collections.PathCollection at 0x7fd5e3926730>"
            ]
          },
          "metadata": {},
          "execution_count": 150
        },
        {
          "output_type": "display_data",
          "data": {
            "text/plain": [
              "<Figure size 720x576 with 1 Axes>"
            ],
            "image/png": "[encoded data removed]"
          },
          "metadata": {
            "needs_background": "light"
          }
        }
      ]
    },
    {
      "cell_type": "markdown",
      "source": [
        "Зависимость дисперсии от среднего похожа на NB-распределение\n",
        "\n",
        "Для проверки можно использовать тест Колмогорова-Смирнова, но не уверена как тут можно проверить :("
      ],
      "metadata": {
        "id": "bsi6amxgyFyy"
      }
    },
    {
      "cell_type": "markdown",
      "source": [
        "Анализ дифференциальной экспрессии"
      ],
      "metadata": {
        "id": "p5-oG9ZMT6LD"
      }
    },
    {
      "cell_type": "code",
      "source": [
        "design = pd.DataFrame({\n",
        "    \"condition\": [sample.split(\"-\")[1] for sample in data.columns],\n",
        "    \"experiment\": [sample.split(\"-\")[2] for sample in data.columns],\n",
        "}, index=data.columns)\n",
        "\n",
        "design.head()"
      ],
      "metadata": {
        "colab": {
          "base_uri": "https://localhost:8080/",
          "height": 206
        },
        "id": "0hS2TybON8B8",
        "outputId": "1c9ba2e0-5a8c-4f61-bbd8-df77e4899abb"
      },
      "execution_count": 151,
      "outputs": [
        {
          "output_type": "execute_result",
          "data": {
            "text/plain": [
              "                 condition experiment\n",
              "LC001-normal-RPF    normal        RPF\n",
              "LC001-tumor-RPF      tumor        RPF\n",
              "LC001-normal-RNA    normal        RNA\n",
              "LC001-tumor-RNA      tumor        RNA\n",
              "LC033-normal-RPF    normal        RPF"
            ],
            "text/html": [
              "\n",
              "  <div id=\"df-2420b71e-b9ab-4be5-948d-5866c90a1a12\">\n",
              "    <div class=\"colab-df-container\">\n",
              "      <div>\n",
              "<style scoped>\n",
              "    .dataframe tbody tr th:only-of-type {\n",
              "        vertical-align: middle;\n",
              "    }\n",
              "\n",
              "    .dataframe tbody tr th {\n",
              "        vertical-align: top;\n",
              "    }\n",
              "\n",
              "    .dataframe thead th {\n",
              "        text-align: right;\n",
              "    }\n",
              "</style>\n",
              "<table border=\"1\" class=\"dataframe\">\n",
              "  <thead>\n",
              "    <tr style=\"text-align: right;\">\n",
              "      <th></th>\n",
              "      <th>condition</th>\n",
              "      <th>experiment</th>\n",
              "    </tr>\n",
              "  </thead>\n",
              "  <tbody>\n",
              "    <tr>\n",
              "      <th>LC001-normal-RPF</th>\n",
              "      <td>normal</td>\n",
              "      <td>RPF</td>\n",
              "    </tr>\n",
              "    <tr>\n",
              "      <th>LC001-tumor-RPF</th>\n",
              "      <td>tumor</td>\n",
              "      <td>RPF</td>\n",
              "    </tr>\n",
              "    <tr>\n",
              "      <th>LC001-normal-RNA</th>\n",
              "      <td>normal</td>\n",
              "      <td>RNA</td>\n",
              "    </tr>\n",
              "    <tr>\n",
              "      <th>LC001-tumor-RNA</th>\n",
              "      <td>tumor</td>\n",
              "      <td>RNA</td>\n",
              "    </tr>\n",
              "    <tr>\n",
              "      <th>LC033-normal-RPF</th>\n",
              "      <td>normal</td>\n",
              "      <td>RPF</td>\n",
              "    </tr>\n",
              "  </tbody>\n",
              "</table>\n",
              "</div>\n",
              "      <button class=\"colab-df-convert\" onclick=\"convertToInteractive('df-2420b71e-b9ab-4be5-948d-5866c90a1a12')\"\n",
              "              title=\"Convert this dataframe to an interactive table.\"\n",
              "              style=\"display:none;\">\n",
              "        \n",
              "  <svg xmlns=\"http://www.w3.org/2000/svg\" height=\"24px\"viewBox=\"0 0 24 24\"\n",
              "       width=\"24px\">\n",
              "    <path d=\"M0 0h24v24H0V0z\" fill=\"none\"/>\n",
              "    <path d=\"M18.56 5.44l.94 2.06.94-2.06 2.06-.94-2.06-.94-.94-2.06-.94 2.06-2.06.94zm-11 1L8.5 8.5l.94-2.06 2.06-.94-2.06-.94L8.5 2.5l-.94 2.06-2.06.94zm10 10l.94 2.06.94-2.06 2.06-.94-2.06-.94-.94-2.06-.94 2.06-2.06.94z\"/><path d=\"M17.41 7.96l-1.37-1.37c-.4-.4-.92-.59-1.43-.59-.52 0-1.04.2-1.43.59L10.3 9.45l-7.72 7.72c-.78.78-.78 2.05 0 2.83L4 21.41c.39.39.9.59 1.41.59.51 0 1.02-.2 1.41-.59l7.78-7.78 2.81-2.81c.8-.78.8-2.07 0-2.86zM5.41 20L4 18.59l7.72-7.72 1.47 1.35L5.41 20z\"/>\n",
              "  </svg>\n",
              "      </button>\n",
              "      \n",
              "  <style>\n",
              "    .colab-df-container {\n",
              "      display:flex;\n",
              "      flex-wrap:wrap;\n",
              "      gap: 12px;\n",
              "    }\n",
              "\n",
              "    .colab-df-convert {\n",
              "      background-color: #E8F0FE;\n",
              "      border: none;\n",
              "      border-radius: 50%;\n",
              "      cursor: pointer;\n",
              "      display: none;\n",
              "      fill: #1967D2;\n",
              "      height: 32px;\n",
              "      padding: 0 0 0 0;\n",
              "      width: 32px;\n",
              "    }\n",
              "\n",
              "    .colab-df-convert:hover {\n",
              "      background-color: #E2EBFA;\n",
              "      box-shadow: 0px 1px 2px rgba(60, 64, 67, 0.3), 0px 1px 3px 1px rgba(60, 64, 67, 0.15);\n",
              "      fill: #174EA6;\n",
              "    }\n",
              "\n",
              "    [theme=dark] .colab-df-convert {\n",
              "      background-color: #3B4455;\n",
              "      fill: #D2E3FC;\n",
              "    }\n",
              "\n",
              "    [theme=dark] .colab-df-convert:hover {\n",
              "      background-color: #434B5C;\n",
              "      box-shadow: 0px 1px 3px 1px rgba(0, 0, 0, 0.15);\n",
              "      filter: drop-shadow(0px 1px 2px rgba(0, 0, 0, 0.3));\n",
              "      fill: #FFFFFF;\n",
              "    }\n",
              "  </style>\n",
              "\n",
              "      <script>\n",
              "        const buttonEl =\n",
              "          document.querySelector('#df-2420b71e-b9ab-4be5-948d-5866c90a1a12 button.colab-df-convert');\n",
              "        buttonEl.style.display =\n",
              "          google.colab.kernel.accessAllowed ? 'block' : 'none';\n",
              "\n",
              "        async function convertToInteractive(key) {\n",
              "          const element = document.querySelector('#df-2420b71e-b9ab-4be5-948d-5866c90a1a12');\n",
              "          const dataTable =\n",
              "            await google.colab.kernel.invokeFunction('convertToInteractive',\n",
              "                                                     [key], {});\n",
              "          if (!dataTable) return;\n",
              "\n",
              "          const docLinkHtml = 'Like what you see? Visit the ' +\n",
              "            '<a target=\"_blank\" href=https://colab.research.google.com/notebooks/data_table.ipynb>data table notebook</a>'\n",
              "            + ' to learn more about interactive tables.';\n",
              "          element.innerHTML = '';\n",
              "          dataTable['output_type'] = 'display_data';\n",
              "          await google.colab.output.renderOutput(dataTable, element);\n",
              "          const docLink = document.createElement('div');\n",
              "          docLink.innerHTML = docLinkHtml;\n",
              "          element.appendChild(docLink);\n",
              "        }\n",
              "      </script>\n",
              "    </div>\n",
              "  </div>\n",
              "  "
            ]
          },
          "metadata": {},
          "execution_count": 151
        }
      ]
    },
    {
      "cell_type": "code",
      "source": [
        "design.to_csv('design.tsv', sep='\\t') #файл для анализа дифф экспрессии в R"
      ],
      "metadata": {
        "id": "FtmqABR0Qy-8"
      },
      "execution_count": 152,
      "outputs": []
    },
    {
      "cell_type": "markdown",
      "source": [
        "Дифференциально экспрессированные гены между опухолью и нормой для RNA-Seq эксперимента"
      ],
      "metadata": {
        "id": "hpEw-HLvyZQF"
      }
    },
    {
      "cell_type": "code",
      "source": [
        "rna_deseq = pd.read_csv('rna_deseq.tsv', sep = '\\t')\n",
        "rna_deseq = rna_deseq.iloc[:, 1:]\n",
        "rna_deseq.index = genes\n",
        "rna_deseq_sign = rna_deseq[rna_deseq.padj < 0.05].sort_values('padj') #только статистически значимые гены\n",
        "rna_deseq_sign.head()"
      ],
      "metadata": {
        "colab": {
          "base_uri": "https://localhost:8080/",
          "height": 206
        },
        "id": "PP7c4AgPqqvj",
        "outputId": "5fb7809d-bd65-4308-a71f-8233f4a81bf9"
      },
      "execution_count": 153,
      "outputs": [
        {
          "output_type": "execute_result",
          "data": {
            "text/plain": [
              "            baseMean  log2FoldChange     lfcSE       stat        pvalue  \\\n",
              "CLEC4G    187.902511       -6.224294  0.471543 -13.199842  8.791966e-40   \n",
              "OIT3      207.433311       -4.190143  0.372389 -11.252055  2.262593e-29   \n",
              "AVPR1A    216.785200       -4.836026  0.444956 -10.868551  1.627649e-27   \n",
              "INS-IGF2  517.466267       -5.941896  0.547969 -10.843493  2.141352e-27   \n",
              "FCN2      154.170314       -5.700993  0.527201 -10.813696  2.964778e-27   \n",
              "\n",
              "                  padj  \n",
              "CLEC4G    1.464478e-35  \n",
              "OIT3      1.884400e-25  \n",
              "AVPR1A    8.917125e-24  \n",
              "INS-IGF2  8.917125e-24  \n",
              "FCN2      9.876861e-24  "
            ],
            "text/html": [
              "\n",
              "  <div id=\"df-fc2844ab-db12-456d-9f78-30ac0f0a6c1f\">\n",
              "    <div class=\"colab-df-container\">\n",
              "      <div>\n",
              "<style scoped>\n",
              "    .dataframe tbody tr th:only-of-type {\n",
              "        vertical-align: middle;\n",
              "    }\n",
              "\n",
              "    .dataframe tbody tr th {\n",
              "        vertical-align: top;\n",
              "    }\n",
              "\n",
              "    .dataframe thead th {\n",
              "        text-align: right;\n",
              "    }\n",
              "</style>\n",
              "<table border=\"1\" class=\"dataframe\">\n",
              "  <thead>\n",
              "    <tr style=\"text-align: right;\">\n",
              "      <th></th>\n",
              "      <th>baseMean</th>\n",
              "      <th>log2FoldChange</th>\n",
              "      <th>lfcSE</th>\n",
              "      <th>stat</th>\n",
              "      <th>pvalue</th>\n",
              "      <th>padj</th>\n",
              "    </tr>\n",
              "  </thead>\n",
              "  <tbody>\n",
              "    <tr>\n",
              "      <th>CLEC4G</th>\n",
              "      <td>187.902511</td>\n",
              "      <td>-6.224294</td>\n",
              "      <td>0.471543</td>\n",
              "      <td>-13.199842</td>\n",
              "      <td>8.791966e-40</td>\n",
              "      <td>1.464478e-35</td>\n",
              "    </tr>\n",
              "    <tr>\n",
              "      <th>OIT3</th>\n",
              "      <td>207.433311</td>\n",
              "      <td>-4.190143</td>\n",
              "      <td>0.372389</td>\n",
              "      <td>-11.252055</td>\n",
              "      <td>2.262593e-29</td>\n",
              "      <td>1.884400e-25</td>\n",
              "    </tr>\n",
              "    <tr>\n",
              "      <th>AVPR1A</th>\n",
              "      <td>216.785200</td>\n",
              "      <td>-4.836026</td>\n",
              "      <td>0.444956</td>\n",
              "      <td>-10.868551</td>\n",
              "      <td>1.627649e-27</td>\n",
              "      <td>8.917125e-24</td>\n",
              "    </tr>\n",
              "    <tr>\n",
              "      <th>INS-IGF2</th>\n",
              "      <td>517.466267</td>\n",
              "      <td>-5.941896</td>\n",
              "      <td>0.547969</td>\n",
              "      <td>-10.843493</td>\n",
              "      <td>2.141352e-27</td>\n",
              "      <td>8.917125e-24</td>\n",
              "    </tr>\n",
              "    <tr>\n",
              "      <th>FCN2</th>\n",
              "      <td>154.170314</td>\n",
              "      <td>-5.700993</td>\n",
              "      <td>0.527201</td>\n",
              "      <td>-10.813696</td>\n",
              "      <td>2.964778e-27</td>\n",
              "      <td>9.876861e-24</td>\n",
              "    </tr>\n",
              "  </tbody>\n",
              "</table>\n",
              "</div>\n",
              "      <button class=\"colab-df-convert\" onclick=\"convertToInteractive('df-fc2844ab-db12-456d-9f78-30ac0f0a6c1f')\"\n",
              "              title=\"Convert this dataframe to an interactive table.\"\n",
              "              style=\"display:none;\">\n",
              "        \n",
              "  <svg xmlns=\"http://www.w3.org/2000/svg\" height=\"24px\"viewBox=\"0 0 24 24\"\n",
              "       width=\"24px\">\n",
              "    <path d=\"M0 0h24v24H0V0z\" fill=\"none\"/>\n",
              "    <path d=\"M18.56 5.44l.94 2.06.94-2.06 2.06-.94-2.06-.94-.94-2.06-.94 2.06-2.06.94zm-11 1L8.5 8.5l.94-2.06 2.06-.94-2.06-.94L8.5 2.5l-.94 2.06-2.06.94zm10 10l.94 2.06.94-2.06 2.06-.94-2.06-.94-.94-2.06-.94 2.06-2.06.94z\"/><path d=\"M17.41 7.96l-1.37-1.37c-.4-.4-.92-.59-1.43-.59-.52 0-1.04.2-1.43.59L10.3 9.45l-7.72 7.72c-.78.78-.78 2.05 0 2.83L4 21.41c.39.39.9.59 1.41.59.51 0 1.02-.2 1.41-.59l7.78-7.78 2.81-2.81c.8-.78.8-2.07 0-2.86zM5.41 20L4 18.59l7.72-7.72 1.47 1.35L5.41 20z\"/>\n",
              "  </svg>\n",
              "      </button>\n",
              "      \n",
              "  <style>\n",
              "    .colab-df-container {\n",
              "      display:flex;\n",
              "      flex-wrap:wrap;\n",
              "      gap: 12px;\n",
              "    }\n",
              "\n",
              "    .colab-df-convert {\n",
              "      background-color: #E8F0FE;\n",
              "      border: none;\n",
              "      border-radius: 50%;\n",
              "      cursor: pointer;\n",
              "      display: none;\n",
              "      fill: #1967D2;\n",
              "      height: 32px;\n",
              "      padding: 0 0 0 0;\n",
              "      width: 32px;\n",
              "    }\n",
              "\n",
              "    .colab-df-convert:hover {\n",
              "      background-color: #E2EBFA;\n",
              "      box-shadow: 0px 1px 2px rgba(60, 64, 67, 0.3), 0px 1px 3px 1px rgba(60, 64, 67, 0.15);\n",
              "      fill: #174EA6;\n",
              "    }\n",
              "\n",
              "    [theme=dark] .colab-df-convert {\n",
              "      background-color: #3B4455;\n",
              "      fill: #D2E3FC;\n",
              "    }\n",
              "\n",
              "    [theme=dark] .colab-df-convert:hover {\n",
              "      background-color: #434B5C;\n",
              "      box-shadow: 0px 1px 3px 1px rgba(0, 0, 0, 0.15);\n",
              "      filter: drop-shadow(0px 1px 2px rgba(0, 0, 0, 0.3));\n",
              "      fill: #FFFFFF;\n",
              "    }\n",
              "  </style>\n",
              "\n",
              "      <script>\n",
              "        const buttonEl =\n",
              "          document.querySelector('#df-fc2844ab-db12-456d-9f78-30ac0f0a6c1f button.colab-df-convert');\n",
              "        buttonEl.style.display =\n",
              "          google.colab.kernel.accessAllowed ? 'block' : 'none';\n",
              "\n",
              "        async function convertToInteractive(key) {\n",
              "          const element = document.querySelector('#df-fc2844ab-db12-456d-9f78-30ac0f0a6c1f');\n",
              "          const dataTable =\n",
              "            await google.colab.kernel.invokeFunction('convertToInteractive',\n",
              "                                                     [key], {});\n",
              "          if (!dataTable) return;\n",
              "\n",
              "          const docLinkHtml = 'Like what you see? Visit the ' +\n",
              "            '<a target=\"_blank\" href=https://colab.research.google.com/notebooks/data_table.ipynb>data table notebook</a>'\n",
              "            + ' to learn more about interactive tables.';\n",
              "          element.innerHTML = '';\n",
              "          dataTable['output_type'] = 'display_data';\n",
              "          await google.colab.output.renderOutput(dataTable, element);\n",
              "          const docLink = document.createElement('div');\n",
              "          docLink.innerHTML = docLinkHtml;\n",
              "          element.appendChild(docLink);\n",
              "        }\n",
              "      </script>\n",
              "    </div>\n",
              "  </div>\n",
              "  "
            ]
          },
          "metadata": {},
          "execution_count": 153
        }
      ]
    },
    {
      "cell_type": "markdown",
      "source": [
        "Наиболее дифференциально экспрессированные гены - CLEC4G, OIT3, AVPR1A, INS-IGF2, FCN2"
      ],
      "metadata": {
        "id": "2m9Yrsrtze3O"
      }
    },
    {
      "cell_type": "code",
      "source": [
        "fig, ax = plt.subplots(figsize=(5, 5), dpi=150)\n",
        "xlim = max(-min(rna_deseq.log2FoldChange), (max(rna_deseq.log2FoldChange))) + 0.5\n",
        "\n",
        "sns.scatterplot(\n",
        "    x=rna_deseq.log2FoldChange,\n",
        "    y=-np.log10(rna_deseq.padj),\n",
        "    ax=ax,\n",
        "    s=3,\n",
        "    linewidth=0)\n",
        "\n",
        "ax.plot(\n",
        "    [-xlim, xlim],\n",
        "    [-np.log10(0.05), -np.log10(0.05)],\n",
        "    color=\"red\")\n",
        "\n",
        "sns.scatterplot(\n",
        "    x=rna_deseq_sign.log2FoldChange,\n",
        "    y=-np.log10(rna_deseq_sign.padj),\n",
        "    ax=ax,\n",
        "    s=5,\n",
        "    linewidth=0,\n",
        "    color=\"red\")\n",
        "\n",
        "ax.grid(alpha=0.3)\n",
        "\n",
        "ax.set_xlim(-xlim, xlim)\n",
        "ax.set_title('RNA-Seq Volcano plot')\n",
        "ax.set_xlabel(\"log$_2$FoldChange\")\n",
        "ax.set_ylabel(\"log$_{10}$FDR\")"
      ],
      "metadata": {
        "colab": {
          "base_uri": "https://localhost:8080/",
          "height": 729
        },
        "id": "4pe6wGgoz5bI",
        "outputId": "94fa6fda-72db-4a96-b6b4-3100925a8601"
      },
      "execution_count": 154,
      "outputs": [
        {
          "output_type": "execute_result",
          "data": {
            "text/plain": [
              "Text(0, 0.5, 'log$_{10}$FDR')"
            ]
          },
          "metadata": {},
          "execution_count": 154
        },
        {
          "output_type": "display_data",
          "data": {
            "text/plain": [
              "<Figure size 750x750 with 1 Axes>"
            ],
            "image/png": "[encoded data removed]"
          },
          "metadata": {
            "needs_background": "light"
          }
        }
      ]
    },
    {
      "cell_type": "code",
      "source": [
        "rpf_deseq = pd.read_csv('rpf_deseq.tsv', sep = '\\t')\n",
        "rpf_deseq = rpf_deseq.iloc[:, 1:]\n",
        "rpf_deseq.index = genes\n",
        "rpf_deseq_sign = rpf_deseq[rpf_deseq.padj < 0.05].sort_values('padj')\n",
        "rpf_deseq_sign.head()"
      ],
      "metadata": {
        "colab": {
          "base_uri": "https://localhost:8080/",
          "height": 206
        },
        "id": "7RjvIERYGkWG",
        "outputId": "41b97223-78db-4088-8228-bd31b5a5dc4b"
      },
      "execution_count": 155,
      "outputs": [
        {
          "output_type": "execute_result",
          "data": {
            "text/plain": [
              "          baseMean  log2FoldChange     lfcSE       stat        pvalue  \\\n",
              "CETP    234.706196       -3.661168  0.328144 -11.157205  6.603531e-29   \n",
              "OIT3    378.527099       -4.123941  0.384101 -10.736618  6.850819e-27   \n",
              "TIMD4   115.823325       -4.410428  0.424721 -10.384291  2.923339e-25   \n",
              "ADGRA3  351.272069       -3.789142  0.368147 -10.292473  7.619383e-25   \n",
              "CLEC4M   60.025648       -6.019149  0.589470 -10.211112  1.768264e-24   \n",
              "\n",
              "                padj  \n",
              "CETP    9.219850e-25  \n",
              "OIT3    4.782557e-23  \n",
              "TIMD4   1.360522e-21  \n",
              "ADGRA3  2.659546e-21  \n",
              "CLEC4M  4.937702e-21  "
            ],
            "text/html": [
              "\n",
              "  <div id=\"df-f528ae55-3f90-4f3e-b15b-4a1ed0430967\">\n",
              "    <div class=\"colab-df-container\">\n",
              "      <div>\n",
              "<style scoped>\n",
              "    .dataframe tbody tr th:only-of-type {\n",
              "        vertical-align: middle;\n",
              "    }\n",
              "\n",
              "    .dataframe tbody tr th {\n",
              "        vertical-align: top;\n",
              "    }\n",
              "\n",
              "    .dataframe thead th {\n",
              "        text-align: right;\n",
              "    }\n",
              "</style>\n",
              "<table border=\"1\" class=\"dataframe\">\n",
              "  <thead>\n",
              "    <tr style=\"text-align: right;\">\n",
              "      <th></th>\n",
              "      <th>baseMean</th>\n",
              "      <th>log2FoldChange</th>\n",
              "      <th>lfcSE</th>\n",
              "      <th>stat</th>\n",
              "      <th>pvalue</th>\n",
              "      <th>padj</th>\n",
              "    </tr>\n",
              "  </thead>\n",
              "  <tbody>\n",
              "    <tr>\n",
              "      <th>CETP</th>\n",
              "      <td>234.706196</td>\n",
              "      <td>-3.661168</td>\n",
              "      <td>0.328144</td>\n",
              "      <td>-11.157205</td>\n",
              "      <td>6.603531e-29</td>\n",
              "      <td>9.219850e-25</td>\n",
              "    </tr>\n",
              "    <tr>\n",
              "      <th>OIT3</th>\n",
              "      <td>378.527099</td>\n",
              "      <td>-4.123941</td>\n",
              "      <td>0.384101</td>\n",
              "      <td>-10.736618</td>\n",
              "      <td>6.850819e-27</td>\n",
              "      <td>4.782557e-23</td>\n",
              "    </tr>\n",
              "    <tr>\n",
              "      <th>TIMD4</th>\n",
              "      <td>115.823325</td>\n",
              "      <td>-4.410428</td>\n",
              "      <td>0.424721</td>\n",
              "      <td>-10.384291</td>\n",
              "      <td>2.923339e-25</td>\n",
              "      <td>1.360522e-21</td>\n",
              "    </tr>\n",
              "    <tr>\n",
              "      <th>ADGRA3</th>\n",
              "      <td>351.272069</td>\n",
              "      <td>-3.789142</td>\n",
              "      <td>0.368147</td>\n",
              "      <td>-10.292473</td>\n",
              "      <td>7.619383e-25</td>\n",
              "      <td>2.659546e-21</td>\n",
              "    </tr>\n",
              "    <tr>\n",
              "      <th>CLEC4M</th>\n",
              "      <td>60.025648</td>\n",
              "      <td>-6.019149</td>\n",
              "      <td>0.589470</td>\n",
              "      <td>-10.211112</td>\n",
              "      <td>1.768264e-24</td>\n",
              "      <td>4.937702e-21</td>\n",
              "    </tr>\n",
              "  </tbody>\n",
              "</table>\n",
              "</div>\n",
              "      <button class=\"colab-df-convert\" onclick=\"convertToInteractive('df-f528ae55-3f90-4f3e-b15b-4a1ed0430967')\"\n",
              "              title=\"Convert this dataframe to an interactive table.\"\n",
              "              style=\"display:none;\">\n",
              "        \n",
              "  <svg xmlns=\"http://www.w3.org/2000/svg\" height=\"24px\"viewBox=\"0 0 24 24\"\n",
              "       width=\"24px\">\n",
              "    <path d=\"M0 0h24v24H0V0z\" fill=\"none\"/>\n",
              "    <path d=\"M18.56 5.44l.94 2.06.94-2.06 2.06-.94-2.06-.94-.94-2.06-.94 2.06-2.06.94zm-11 1L8.5 8.5l.94-2.06 2.06-.94-2.06-.94L8.5 2.5l-.94 2.06-2.06.94zm10 10l.94 2.06.94-2.06 2.06-.94-2.06-.94-.94-2.06-.94 2.06-2.06.94z\"/><path d=\"M17.41 7.96l-1.37-1.37c-.4-.4-.92-.59-1.43-.59-.52 0-1.04.2-1.43.59L10.3 9.45l-7.72 7.72c-.78.78-.78 2.05 0 2.83L4 21.41c.39.39.9.59 1.41.59.51 0 1.02-.2 1.41-.59l7.78-7.78 2.81-2.81c.8-.78.8-2.07 0-2.86zM5.41 20L4 18.59l7.72-7.72 1.47 1.35L5.41 20z\"/>\n",
              "  </svg>\n",
              "      </button>\n",
              "      \n",
              "  <style>\n",
              "    .colab-df-container {\n",
              "      display:flex;\n",
              "      flex-wrap:wrap;\n",
              "      gap: 12px;\n",
              "    }\n",
              "\n",
              "    .colab-df-convert {\n",
              "      background-color: #E8F0FE;\n",
              "      border: none;\n",
              "      border-radius: 50%;\n",
              "      cursor: pointer;\n",
              "      display: none;\n",
              "      fill: #1967D2;\n",
              "      height: 32px;\n",
              "      padding: 0 0 0 0;\n",
              "      width: 32px;\n",
              "    }\n",
              "\n",
              "    .colab-df-convert:hover {\n",
              "      background-color: #E2EBFA;\n",
              "      box-shadow: 0px 1px 2px rgba(60, 64, 67, 0.3), 0px 1px 3px 1px rgba(60, 64, 67, 0.15);\n",
              "      fill: #174EA6;\n",
              "    }\n",
              "\n",
              "    [theme=dark] .colab-df-convert {\n",
              "      background-color: #3B4455;\n",
              "      fill: #D2E3FC;\n",
              "    }\n",
              "\n",
              "    [theme=dark] .colab-df-convert:hover {\n",
              "      background-color: #434B5C;\n",
              "      box-shadow: 0px 1px 3px 1px rgba(0, 0, 0, 0.15);\n",
              "      filter: drop-shadow(0px 1px 2px rgba(0, 0, 0, 0.3));\n",
              "      fill: #FFFFFF;\n",
              "    }\n",
              "  </style>\n",
              "\n",
              "      <script>\n",
              "        const buttonEl =\n",
              "          document.querySelector('#df-f528ae55-3f90-4f3e-b15b-4a1ed0430967 button.colab-df-convert');\n",
              "        buttonEl.style.display =\n",
              "          google.colab.kernel.accessAllowed ? 'block' : 'none';\n",
              "\n",
              "        async function convertToInteractive(key) {\n",
              "          const element = document.querySelector('#df-f528ae55-3f90-4f3e-b15b-4a1ed0430967');\n",
              "          const dataTable =\n",
              "            await google.colab.kernel.invokeFunction('convertToInteractive',\n",
              "                                                     [key], {});\n",
              "          if (!dataTable) return;\n",
              "\n",
              "          const docLinkHtml = 'Like what you see? Visit the ' +\n",
              "            '<a target=\"_blank\" href=https://colab.research.google.com/notebooks/data_table.ipynb>data table notebook</a>'\n",
              "            + ' to learn more about interactive tables.';\n",
              "          element.innerHTML = '';\n",
              "          dataTable['output_type'] = 'display_data';\n",
              "          await google.colab.output.renderOutput(dataTable, element);\n",
              "          const docLink = document.createElement('div');\n",
              "          docLink.innerHTML = docLinkHtml;\n",
              "          element.appendChild(docLink);\n",
              "        }\n",
              "      </script>\n",
              "    </div>\n",
              "  </div>\n",
              "  "
            ]
          },
          "metadata": {},
          "execution_count": 155
        }
      ]
    },
    {
      "cell_type": "markdown",
      "source": [
        "Наиболее дифференциально экспрессированные гены - CETP, OIT3, TIMD4, ADGRA3, CLEC4M"
      ],
      "metadata": {
        "id": "fyHPI0t9zn93"
      }
    },
    {
      "cell_type": "code",
      "source": [
        "fig, ax = plt.subplots(figsize=(5, 5), dpi=150)\n",
        "minn = sorted(set(rpf_deseq.log2FoldChange.to_list()))[1] \n",
        "#наименьшее значение равно nan, поэтому беру следующее наименьшее значение\n",
        "maxx = sorted(set(rpf_deseq.log2FoldChange.to_list()))[-1] \n",
        "#наибольшее значение равно nan, поэтому беру следующее наибольшее значение\n",
        "\n",
        "xlim = max(-minn, maxx) + 0.5\n",
        "\n",
        "sns.scatterplot(\n",
        "    x=rpf_deseq.log2FoldChange,\n",
        "    y=-np.log10(rpf_deseq.padj),\n",
        "    ax=ax,\n",
        "    s=3,\n",
        "    linewidth=0)\n",
        "\n",
        "ax.plot(\n",
        "    [-xlim, xlim],\n",
        "    [-np.log10(0.05), -np.log10(0.05)],\n",
        "    color=\"red\")\n",
        "\n",
        "sns.scatterplot(\n",
        "    x=rpf_deseq_sign.log2FoldChange,\n",
        "    y=-np.log10(rpf_deseq_sign.padj),\n",
        "    ax=ax,\n",
        "    s=5,\n",
        "    linewidth=0,\n",
        "    color=\"red\")\n",
        "\n",
        "ax.grid(alpha=0.3)\n",
        "\n",
        "ax.set_xlim(-xlim, xlim)\n",
        "ax.set_title('Ribo-Seq Volcano plot')\n",
        "ax.set_xlabel(\"log$_2$FoldChange\")\n",
        "ax.set_ylabel(\"log$_{10}$FDR\")"
      ],
      "metadata": {
        "colab": {
          "base_uri": "https://localhost:8080/",
          "height": 729
        },
        "id": "OOkaKhcG1Mu2",
        "outputId": "1ac7e6ad-a6d4-4038-a2e9-dbead471f799"
      },
      "execution_count": 156,
      "outputs": [
        {
          "output_type": "execute_result",
          "data": {
            "text/plain": [
              "Text(0, 0.5, 'log$_{10}$FDR')"
            ]
          },
          "metadata": {},
          "execution_count": 156
        },
        {
          "output_type": "display_data",
          "data": {
            "text/plain": [
              "<Figure size 750x750 with 1 Axes>"
            ],
            "image/png": "[encoded data removed]"
          },
          "metadata": {
            "needs_background": "light"
          }
        }
      ]
    },
    {
      "cell_type": "code",
      "source": [
        "total_deseq = pd.read_csv('total_deseq.tsv', sep = '\\t')\n",
        "total_deseq = total_deseq.iloc[:, 1:]\n",
        "total_deseq.index = genes\n",
        "total_deseq_sign = total_deseq[total_deseq.padj < 0.05].sort_values('padj')\n",
        "total_deseq_sign.head()"
      ],
      "metadata": {
        "colab": {
          "base_uri": "https://localhost:8080/",
          "height": 206
        },
        "id": "_YNUukhSqwJY",
        "outputId": "73036bcd-25cc-4bf7-800e-90d9e3165a7d"
      },
      "execution_count": 157,
      "outputs": [
        {
          "output_type": "execute_result",
          "data": {
            "text/plain": [
              "               baseMean  log2FoldChange     lfcSE      stat        pvalue  \\\n",
              "UAP1         524.937253       -1.852040  0.372283 -4.974812  6.531085e-07   \n",
              "DMXL1        292.358919       -1.242948  0.250249 -4.966847  6.805028e-07   \n",
              "DPP9       19998.727349        2.699844  0.557605  4.841855  1.286329e-06   \n",
              "CDC25A        28.822459        3.896988  0.820834  4.747594  2.058507e-06   \n",
              "KIAA1211L      9.758817        3.937915  0.884599  4.451639  8.521747e-06   \n",
              "\n",
              "               padj  \n",
              "UAP1       0.005695  \n",
              "DMXL1      0.005695  \n",
              "DPP9       0.007176  \n",
              "CDC25A     0.008613  \n",
              "KIAA1211L  0.028526  "
            ],
            "text/html": [
              "\n",
              "  <div id=\"df-f590482f-b53c-4694-a340-3c7294d0398d\">\n",
              "    <div class=\"colab-df-container\">\n",
              "      <div>\n",
              "<style scoped>\n",
              "    .dataframe tbody tr th:only-of-type {\n",
              "        vertical-align: middle;\n",
              "    }\n",
              "\n",
              "    .dataframe tbody tr th {\n",
              "        vertical-align: top;\n",
              "    }\n",
              "\n",
              "    .dataframe thead th {\n",
              "        text-align: right;\n",
              "    }\n",
              "</style>\n",
              "<table border=\"1\" class=\"dataframe\">\n",
              "  <thead>\n",
              "    <tr style=\"text-align: right;\">\n",
              "      <th></th>\n",
              "      <th>baseMean</th>\n",
              "      <th>log2FoldChange</th>\n",
              "      <th>lfcSE</th>\n",
              "      <th>stat</th>\n",
              "      <th>pvalue</th>\n",
              "      <th>padj</th>\n",
              "    </tr>\n",
              "  </thead>\n",
              "  <tbody>\n",
              "    <tr>\n",
              "      <th>UAP1</th>\n",
              "      <td>524.937253</td>\n",
              "      <td>-1.852040</td>\n",
              "      <td>0.372283</td>\n",
              "      <td>-4.974812</td>\n",
              "      <td>6.531085e-07</td>\n",
              "      <td>0.005695</td>\n",
              "    </tr>\n",
              "    <tr>\n",
              "      <th>DMXL1</th>\n",
              "      <td>292.358919</td>\n",
              "      <td>-1.242948</td>\n",
              "      <td>0.250249</td>\n",
              "      <td>-4.966847</td>\n",
              "      <td>6.805028e-07</td>\n",
              "      <td>0.005695</td>\n",
              "    </tr>\n",
              "    <tr>\n",
              "      <th>DPP9</th>\n",
              "      <td>19998.727349</td>\n",
              "      <td>2.699844</td>\n",
              "      <td>0.557605</td>\n",
              "      <td>4.841855</td>\n",
              "      <td>1.286329e-06</td>\n",
              "      <td>0.007176</td>\n",
              "    </tr>\n",
              "    <tr>\n",
              "      <th>CDC25A</th>\n",
              "      <td>28.822459</td>\n",
              "      <td>3.896988</td>\n",
              "      <td>0.820834</td>\n",
              "      <td>4.747594</td>\n",
              "      <td>2.058507e-06</td>\n",
              "      <td>0.008613</td>\n",
              "    </tr>\n",
              "    <tr>\n",
              "      <th>KIAA1211L</th>\n",
              "      <td>9.758817</td>\n",
              "      <td>3.937915</td>\n",
              "      <td>0.884599</td>\n",
              "      <td>4.451639</td>\n",
              "      <td>8.521747e-06</td>\n",
              "      <td>0.028526</td>\n",
              "    </tr>\n",
              "  </tbody>\n",
              "</table>\n",
              "</div>\n",
              "      <button class=\"colab-df-convert\" onclick=\"convertToInteractive('df-f590482f-b53c-4694-a340-3c7294d0398d')\"\n",
              "              title=\"Convert this dataframe to an interactive table.\"\n",
              "              style=\"display:none;\">\n",
              "        \n",
              "  <svg xmlns=\"http://www.w3.org/2000/svg\" height=\"24px\"viewBox=\"0 0 24 24\"\n",
              "       width=\"24px\">\n",
              "    <path d=\"M0 0h24v24H0V0z\" fill=\"none\"/>\n",
              "    <path d=\"M18.56 5.44l.94 2.06.94-2.06 2.06-.94-2.06-.94-.94-2.06-.94 2.06-2.06.94zm-11 1L8.5 8.5l.94-2.06 2.06-.94-2.06-.94L8.5 2.5l-.94 2.06-2.06.94zm10 10l.94 2.06.94-2.06 2.06-.94-2.06-.94-.94-2.06-.94 2.06-2.06.94z\"/><path d=\"M17.41 7.96l-1.37-1.37c-.4-.4-.92-.59-1.43-.59-.52 0-1.04.2-1.43.59L10.3 9.45l-7.72 7.72c-.78.78-.78 2.05 0 2.83L4 21.41c.39.39.9.59 1.41.59.51 0 1.02-.2 1.41-.59l7.78-7.78 2.81-2.81c.8-.78.8-2.07 0-2.86zM5.41 20L4 18.59l7.72-7.72 1.47 1.35L5.41 20z\"/>\n",
              "  </svg>\n",
              "      </button>\n",
              "      \n",
              "  <style>\n",
              "    .colab-df-container {\n",
              "      display:flex;\n",
              "      flex-wrap:wrap;\n",
              "      gap: 12px;\n",
              "    }\n",
              "\n",
              "    .colab-df-convert {\n",
              "      background-color: #E8F0FE;\n",
              "      border: none;\n",
              "      border-radius: 50%;\n",
              "      cursor: pointer;\n",
              "      display: none;\n",
              "      fill: #1967D2;\n",
              "      height: 32px;\n",
              "      padding: 0 0 0 0;\n",
              "      width: 32px;\n",
              "    }\n",
              "\n",
              "    .colab-df-convert:hover {\n",
              "      background-color: #E2EBFA;\n",
              "      box-shadow: 0px 1px 2px rgba(60, 64, 67, 0.3), 0px 1px 3px 1px rgba(60, 64, 67, 0.15);\n",
              "      fill: #174EA6;\n",
              "    }\n",
              "\n",
              "    [theme=dark] .colab-df-convert {\n",
              "      background-color: #3B4455;\n",
              "      fill: #D2E3FC;\n",
              "    }\n",
              "\n",
              "    [theme=dark] .colab-df-convert:hover {\n",
              "      background-color: #434B5C;\n",
              "      box-shadow: 0px 1px 3px 1px rgba(0, 0, 0, 0.15);\n",
              "      filter: drop-shadow(0px 1px 2px rgba(0, 0, 0, 0.3));\n",
              "      fill: #FFFFFF;\n",
              "    }\n",
              "  </style>\n",
              "\n",
              "      <script>\n",
              "        const buttonEl =\n",
              "          document.querySelector('#df-f590482f-b53c-4694-a340-3c7294d0398d button.colab-df-convert');\n",
              "        buttonEl.style.display =\n",
              "          google.colab.kernel.accessAllowed ? 'block' : 'none';\n",
              "\n",
              "        async function convertToInteractive(key) {\n",
              "          const element = document.querySelector('#df-f590482f-b53c-4694-a340-3c7294d0398d');\n",
              "          const dataTable =\n",
              "            await google.colab.kernel.invokeFunction('convertToInteractive',\n",
              "                                                     [key], {});\n",
              "          if (!dataTable) return;\n",
              "\n",
              "          const docLinkHtml = 'Like what you see? Visit the ' +\n",
              "            '<a target=\"_blank\" href=https://colab.research.google.com/notebooks/data_table.ipynb>data table notebook</a>'\n",
              "            + ' to learn more about interactive tables.';\n",
              "          element.innerHTML = '';\n",
              "          dataTable['output_type'] = 'display_data';\n",
              "          await google.colab.output.renderOutput(dataTable, element);\n",
              "          const docLink = document.createElement('div');\n",
              "          docLink.innerHTML = docLinkHtml;\n",
              "          element.appendChild(docLink);\n",
              "        }\n",
              "      </script>\n",
              "    </div>\n",
              "  </div>\n",
              "  "
            ]
          },
          "metadata": {},
          "execution_count": 157
        }
      ]
    },
    {
      "cell_type": "markdown",
      "source": [
        "В случае сравнения разных методов наиболее дифференциально экспрессированные гены - UAP1, DMXL1, DPP9, CDC25A, KIAA1211L"
      ],
      "metadata": {
        "id": "aKK0amm79Jlj"
      }
    },
    {
      "cell_type": "code",
      "source": [
        "fig, ax = plt.subplots(figsize=(5, 5), dpi=150)\n",
        "xlim = max(-min(rna_deseq.log2FoldChange), (max(rna_deseq.log2FoldChange))) + 0.5\n",
        "\n",
        "sns.scatterplot(\n",
        "    x=total_deseq.log2FoldChange,\n",
        "    y=-np.log10(total_deseq.padj),\n",
        "    ax=ax,\n",
        "    s=3,\n",
        "    linewidth=0)\n",
        "\n",
        "ax.plot(\n",
        "    [-xlim, xlim],\n",
        "    [-np.log10(0.05), -np.log10(0.05)],\n",
        "    color=\"red\")\n",
        "\n",
        "sns.scatterplot(\n",
        "    x=total_deseq_sign.log2FoldChange,\n",
        "    y=-np.log10(total_deseq_sign.padj),\n",
        "    ax=ax,\n",
        "    s=5,\n",
        "    linewidth=0,\n",
        "    color=\"red\")\n",
        "\n",
        "ax.grid(alpha=0.3)\n",
        "\n",
        "ax.set_xlim(-xlim, xlim)\n",
        "ax.set_title('RNA-Seq Volcano plot')\n",
        "ax.set_xlabel(\"log$_2$FoldChange\")\n",
        "ax.set_ylabel(\"log$_{10}$FDR\")"
      ],
      "metadata": {
        "colab": {
          "base_uri": "https://localhost:8080/",
          "height": 729
        },
        "id": "9r3bQhE08yK5",
        "outputId": "148f3808-038d-4c8a-ab4e-e3eb46b60d18"
      },
      "execution_count": 158,
      "outputs": [
        {
          "output_type": "execute_result",
          "data": {
            "text/plain": [
              "Text(0, 0.5, 'log$_{10}$FDR')"
            ]
          },
          "metadata": {},
          "execution_count": 158
        },
        {
          "output_type": "display_data",
          "data": {
            "text/plain": [
              "<Figure size 750x750 with 1 Axes>"
            ],
            "image/png": "[encoded data removed]"
          },
          "metadata": {
            "needs_background": "light"
          }
        }
      ]
    },
    {
      "cell_type": "markdown",
      "source": [
        "## **Задание 2. Анализ wig-файла.**"
      ],
      "metadata": {
        "id": "YL7rd4Iss6Nh"
      }
    },
    {
      "cell_type": "markdown",
      "source": [
        "### **2.1 Неравномерность покрытия генома**"
      ],
      "metadata": {
        "id": "2yAUI8uZ9yoI"
      }
    },
    {
      "cell_type": "code",
      "source": [
        "! sed -i -e '1d' 02.\\ RiboSeq_EColi_track_f.wig\n",
        "! head 02.\\ RiboSeq_EColi_track_f.wig"
      ],
      "metadata": {
        "colab": {
          "base_uri": "https://localhost:8080/"
        },
        "id": "mLimANCm70aO",
        "outputId": "6d746d89-e5c5-4219-a0cb-d6fc90a8ac42"
      },
      "execution_count": 159,
      "outputs": [
        {
          "output_type": "stream",
          "name": "stdout",
          "text": [
            "77\t2\n",
            "85\t1\n",
            "139\t1\n",
            "147\t1\n",
            "153\t1\n",
            "155\t1\n",
            "159\t1\n",
            "173\t1\n",
            "176\t6\n",
            "182\t2\n"
          ]
        }
      ]
    },
    {
      "cell_type": "code",
      "source": [
        "! sed -i -e '1d' 02.\\ RiboSeq_EColi_track_r.wig\n",
        "! head 02.\\ RiboSeq_EColi_track_r.wig"
      ],
      "metadata": {
        "colab": {
          "base_uri": "https://localhost:8080/"
        },
        "id": "sU5rgMtVpdnQ",
        "outputId": "cb5723f6-2129-41f0-d831-e4cb588b7829"
      },
      "execution_count": 160,
      "outputs": [
        {
          "output_type": "stream",
          "name": "stdout",
          "text": [
            "1212\t1\n",
            "1292\t1\n",
            "3626\t1\n",
            "3979\t1\n",
            "4408\t1\n",
            "4797\t1\n",
            "4916\t1\n",
            "4952\t1\n",
            "4979\t1\n",
            "5183\t1\n"
          ]
        }
      ]
    },
    {
      "cell_type": "code",
      "source": [
        "counts_f = pd.read_csv('02. RiboSeq_EColi_track_f.wig', sep = '\\t', names = ['coordinate', 'counts'])\n",
        "counts_r = pd.read_csv('02. RiboSeq_EColi_track_r.wig', sep = '\\t', names = ['coordinate', 'counts'])"
      ],
      "metadata": {
        "id": "qfIDtkg1C7Vr"
      },
      "execution_count": 161,
      "outputs": []
    },
    {
      "cell_type": "code",
      "source": [
        "counts = pd.concat([counts_f, counts_r], axis=0, ignore_index=True)\n",
        "counts = counts.sort_values('coordinate', ascending = True)\n",
        "counts = counts.reset_index(drop = True)\n",
        "counts.head()"
      ],
      "metadata": {
        "colab": {
          "base_uri": "https://localhost:8080/",
          "height": 206
        },
        "id": "WvHQ_kuBqFZo",
        "outputId": "216c2907-4585-447a-9cb5-6deed71bd67c"
      },
      "execution_count": 162,
      "outputs": [
        {
          "output_type": "execute_result",
          "data": {
            "text/plain": [
              "   coordinate  counts\n",
              "0          77       2\n",
              "1          85       1\n",
              "2         139       1\n",
              "3         147       1\n",
              "4         153       1"
            ],
            "text/html": [
              "\n",
              "  <div id=\"df-d556b5c9-aae6-4225-b5e1-f0691ae1d705\">\n",
              "    <div class=\"colab-df-container\">\n",
              "      <div>\n",
              "<style scoped>\n",
              "    .dataframe tbody tr th:only-of-type {\n",
              "        vertical-align: middle;\n",
              "    }\n",
              "\n",
              "    .dataframe tbody tr th {\n",
              "        vertical-align: top;\n",
              "    }\n",
              "\n",
              "    .dataframe thead th {\n",
              "        text-align: right;\n",
              "    }\n",
              "</style>\n",
              "<table border=\"1\" class=\"dataframe\">\n",
              "  <thead>\n",
              "    <tr style=\"text-align: right;\">\n",
              "      <th></th>\n",
              "      <th>coordinate</th>\n",
              "      <th>counts</th>\n",
              "    </tr>\n",
              "  </thead>\n",
              "  <tbody>\n",
              "    <tr>\n",
              "      <th>0</th>\n",
              "      <td>77</td>\n",
              "      <td>2</td>\n",
              "    </tr>\n",
              "    <tr>\n",
              "      <th>1</th>\n",
              "      <td>85</td>\n",
              "      <td>1</td>\n",
              "    </tr>\n",
              "    <tr>\n",
              "      <th>2</th>\n",
              "      <td>139</td>\n",
              "      <td>1</td>\n",
              "    </tr>\n",
              "    <tr>\n",
              "      <th>3</th>\n",
              "      <td>147</td>\n",
              "      <td>1</td>\n",
              "    </tr>\n",
              "    <tr>\n",
              "      <th>4</th>\n",
              "      <td>153</td>\n",
              "      <td>1</td>\n",
              "    </tr>\n",
              "  </tbody>\n",
              "</table>\n",
              "</div>\n",
              "      <button class=\"colab-df-convert\" onclick=\"convertToInteractive('df-d556b5c9-aae6-4225-b5e1-f0691ae1d705')\"\n",
              "              title=\"Convert this dataframe to an interactive table.\"\n",
              "              style=\"display:none;\">\n",
              "        \n",
              "  <svg xmlns=\"http://www.w3.org/2000/svg\" height=\"24px\"viewBox=\"0 0 24 24\"\n",
              "       width=\"24px\">\n",
              "    <path d=\"M0 0h24v24H0V0z\" fill=\"none\"/>\n",
              "    <path d=\"M18.56 5.44l.94 2.06.94-2.06 2.06-.94-2.06-.94-.94-2.06-.94 2.06-2.06.94zm-11 1L8.5 8.5l.94-2.06 2.06-.94-2.06-.94L8.5 2.5l-.94 2.06-2.06.94zm10 10l.94 2.06.94-2.06 2.06-.94-2.06-.94-.94-2.06-.94 2.06-2.06.94z\"/><path d=\"M17.41 7.96l-1.37-1.37c-.4-.4-.92-.59-1.43-.59-.52 0-1.04.2-1.43.59L10.3 9.45l-7.72 7.72c-.78.78-.78 2.05 0 2.83L4 21.41c.39.39.9.59 1.41.59.51 0 1.02-.2 1.41-.59l7.78-7.78 2.81-2.81c.8-.78.8-2.07 0-2.86zM5.41 20L4 18.59l7.72-7.72 1.47 1.35L5.41 20z\"/>\n",
              "  </svg>\n",
              "      </button>\n",
              "      \n",
              "  <style>\n",
              "    .colab-df-container {\n",
              "      display:flex;\n",
              "      flex-wrap:wrap;\n",
              "      gap: 12px;\n",
              "    }\n",
              "\n",
              "    .colab-df-convert {\n",
              "      background-color: #E8F0FE;\n",
              "      border: none;\n",
              "      border-radius: 50%;\n",
              "      cursor: pointer;\n",
              "      display: none;\n",
              "      fill: #1967D2;\n",
              "      height: 32px;\n",
              "      padding: 0 0 0 0;\n",
              "      width: 32px;\n",
              "    }\n",
              "\n",
              "    .colab-df-convert:hover {\n",
              "      background-color: #E2EBFA;\n",
              "      box-shadow: 0px 1px 2px rgba(60, 64, 67, 0.3), 0px 1px 3px 1px rgba(60, 64, 67, 0.15);\n",
              "      fill: #174EA6;\n",
              "    }\n",
              "\n",
              "    [theme=dark] .colab-df-convert {\n",
              "      background-color: #3B4455;\n",
              "      fill: #D2E3FC;\n",
              "    }\n",
              "\n",
              "    [theme=dark] .colab-df-convert:hover {\n",
              "      background-color: #434B5C;\n",
              "      box-shadow: 0px 1px 3px 1px rgba(0, 0, 0, 0.15);\n",
              "      filter: drop-shadow(0px 1px 2px rgba(0, 0, 0, 0.3));\n",
              "      fill: #FFFFFF;\n",
              "    }\n",
              "  </style>\n",
              "\n",
              "      <script>\n",
              "        const buttonEl =\n",
              "          document.querySelector('#df-d556b5c9-aae6-4225-b5e1-f0691ae1d705 button.colab-df-convert');\n",
              "        buttonEl.style.display =\n",
              "          google.colab.kernel.accessAllowed ? 'block' : 'none';\n",
              "\n",
              "        async function convertToInteractive(key) {\n",
              "          const element = document.querySelector('#df-d556b5c9-aae6-4225-b5e1-f0691ae1d705');\n",
              "          const dataTable =\n",
              "            await google.colab.kernel.invokeFunction('convertToInteractive',\n",
              "                                                     [key], {});\n",
              "          if (!dataTable) return;\n",
              "\n",
              "          const docLinkHtml = 'Like what you see? Visit the ' +\n",
              "            '<a target=\"_blank\" href=https://colab.research.google.com/notebooks/data_table.ipynb>data table notebook</a>'\n",
              "            + ' to learn more about interactive tables.';\n",
              "          element.innerHTML = '';\n",
              "          dataTable['output_type'] = 'display_data';\n",
              "          await google.colab.output.renderOutput(dataTable, element);\n",
              "          const docLink = document.createElement('div');\n",
              "          docLink.innerHTML = docLinkHtml;\n",
              "          element.appendChild(docLink);\n",
              "        }\n",
              "      </script>\n",
              "    </div>\n",
              "  </div>\n",
              "  "
            ]
          },
          "metadata": {},
          "execution_count": 162
        }
      ]
    },
    {
      "cell_type": "code",
      "source": [
        "#при склеивании данных прямых и обратных ридов координаты повторяются - суммирую их\n",
        "duplicate = counts[counts.duplicated('coordinate')]\n",
        "for i in range(len(duplicate)):\n",
        "  coord = duplicate.iloc[i, 0]\n",
        "  count = duplicate.iloc[i, 1]\n",
        "  index = (counts.coordinate.values == coord).argmax()\n",
        "  counts.iloc[index, 1] += count"
      ],
      "metadata": {
        "id": "X9oGhpZfq6T0"
      },
      "execution_count": 163,
      "outputs": []
    },
    {
      "cell_type": "code",
      "source": [
        "counts = counts.drop_duplicates(subset=['coordinate'])"
      ],
      "metadata": {
        "id": "MKUIFcHG3DN0"
      },
      "execution_count": 164,
      "outputs": []
    },
    {
      "cell_type": "code",
      "source": [
        "! mv GCF_000005845.2_ASM584v2_genomic.gff annotation.gff"
      ],
      "metadata": {
        "id": "P6_kXG7tKoxK"
      },
      "execution_count": 173,
      "outputs": []
    },
    {
      "cell_type": "code",
      "source": [
        "! sed -i -e '1, 7d' annotation.gff"
      ],
      "metadata": {
        "id": "CHymWMFJtyab"
      },
      "execution_count": 174,
      "outputs": []
    },
    {
      "cell_type": "code",
      "source": [
        "! head annotation.gff"
      ],
      "metadata": {
        "colab": {
          "base_uri": "https://localhost:8080/"
        },
        "id": "OhXYuLjGvjES",
        "outputId": "835188a9-88bc-4ebf-aa49-8135bc912421"
      },
      "execution_count": 175,
      "outputs": [
        {
          "output_type": "stream",
          "name": "stdout",
          "text": [
            "NC_000913.3\tRefSeq\tregion\t1\t4641652\t.\t+\t.\tID=NC_000913.3:1..4641652;Dbxref=taxon:511145;Is_circular=true;Name=ANONYMOUS;gbkey=Src;genome=chromosome;mol_type=genomic DNA;strain=K-12;substrain=MG1655\n",
            "NC_000913.3\tRefSeq\tgene\t190\t255\t.\t+\t.\tID=gene-b0001;Dbxref=ASAP:ABE-0000006,ECOCYC:EG11277,GeneID:944742;Name=thrL;gbkey=Gene;gene=thrL;gene_biotype=protein_coding;gene_synonym=ECK0001;locus_tag=b0001\n",
            "NC_000913.3\tRefSeq\tCDS\t190\t255\t.\t+\t0\tID=cds-NP_414542.1;Parent=gene-b0001;Dbxref=UniProtKB/Swiss-Prot:P0AD86,Genbank:NP_414542.1,ASAP:ABE-0000006,ECOCYC:EG11277,GeneID:944742;Name=NP_414542.1;gbkey=CDS;gene=thrL;locus_tag=b0001;orig_transcript_id=gnl|b0001|mrna.NP_414542;product=thr operon leader peptide;protein_id=NP_414542.1;transl_table=11\n",
            "NC_000913.3\tRefSeq\tgene\t337\t2799\t.\t+\t.\tID=gene-b0002;Dbxref=ASAP:ABE-0000008,ECOCYC:EG10998,GeneID:945803;Name=thrA;gbkey=Gene;gene=thrA;gene_biotype=protein_coding;gene_synonym=ECK0002,Hs,thrA1,thrA2,thrD;locus_tag=b0002\n",
            "NC_000913.3\tRefSeq\tCDS\t337\t2799\t.\t+\t0\tID=cds-NP_414543.1;Parent=gene-b0002;Dbxref=UniProtKB/Swiss-Prot:P00561,Genbank:NP_414543.1,ASAP:ABE-0000008,ECOCYC:EG10998,GeneID:945803;Name=NP_414543.1;gbkey=CDS;gene=thrA;locus_tag=b0002;orig_transcript_id=gnl|b0002|mrna.NP_414543;product=fused aspartate kinase/homoserine dehydrogenase 1;protein_id=NP_414543.1;transl_table=11\n",
            "NC_000913.3\tRefSeq\tgene\t2801\t3733\t.\t+\t.\tID=gene-b0003;Dbxref=ASAP:ABE-0000010,ECOCYC:EG10999,GeneID:947498;Name=thrB;gbkey=Gene;gene=thrB;gene_biotype=protein_coding;gene_synonym=ECK0003;locus_tag=b0003\n",
            "NC_000913.3\tRefSeq\tCDS\t2801\t3733\t.\t+\t0\tID=cds-NP_414544.1;Parent=gene-b0003;Dbxref=UniProtKB/Swiss-Prot:P00547,Genbank:NP_414544.1,ASAP:ABE-0000010,ECOCYC:EG10999,GeneID:947498;Name=NP_414544.1;gbkey=CDS;gene=thrB;locus_tag=b0003;orig_transcript_id=gnl|b0003|mrna.NP_414544;product=homoserine kinase;protein_id=NP_414544.1;transl_table=11\n",
            "NC_000913.3\tRefSeq\tgene\t3734\t5020\t.\t+\t.\tID=gene-b0004;Dbxref=ASAP:ABE-0000012,ECOCYC:EG11000,GeneID:945198;Name=thrC;gbkey=Gene;gene=thrC;gene_biotype=protein_coding;gene_synonym=ECK0004;locus_tag=b0004\n",
            "NC_000913.3\tRefSeq\tCDS\t3734\t5020\t.\t+\t0\tID=cds-NP_414545.1;Parent=gene-b0004;Dbxref=UniProtKB/Swiss-Prot:P00934,Genbank:NP_414545.1,ASAP:ABE-0000012,ECOCYC:EG11000,GeneID:945198;Name=NP_414545.1;gbkey=CDS;gene=thrC;locus_tag=b0004;orig_transcript_id=gnl|b0004|mrna.NP_414545;product=threonine synthase;protein_id=NP_414545.1;transl_table=11\n",
            "NC_000913.3\tRefSeq\tgene\t5234\t5530\t.\t+\t.\tID=gene-b0005;Dbxref=ASAP:ABE-0000015,ECOCYC:G6081,GeneID:944747;Name=yaaX;gbkey=Gene;gene=yaaX;gene_biotype=protein_coding;gene_synonym=ECK0005;locus_tag=b0005\n"
          ]
        }
      ]
    },
    {
      "cell_type": "code",
      "source": [
        "import re\n",
        "annotation = pd.read_csv('annotation.gff', sep = '\\t')\n",
        "annotation.drop(9482, inplace = True)\n",
        "annotation.drop(annotation.columns[[0, 1]], axis = 1, inplace = True)\n",
        "annotation = annotation[annotation.region == 'gene']\n",
        "annotation.drop(annotation.columns[[0, 3, 4, 5]], axis = 1, inplace = True)\n",
        "annotation.columns = ['start', 'end', 'gene_info']\n",
        "annotation = annotation.astype({'start': int, 'end': int, 'gene_info': str})\n",
        "annotation = annotation.reset_index(drop = True)\n",
        "for s in range(len(annotation)):\n",
        "  gene = annotation['gene_info'][s]\n",
        "  operon = re.search(';Name=(.*);gbkey', gene) #отбор генов из atp оперона\n",
        "  res = operon.group(1) \n",
        "  annotation['gene_info'][s] = res"
      ],
      "metadata": {
        "colab": {
          "base_uri": "https://localhost:8080/"
        },
        "id": "RLFUB-NqyF-X",
        "outputId": "6146ad32-6c19-47ff-d263-e3af30fac815"
      },
      "execution_count": 179,
      "outputs": [
        {
          "output_type": "stream",
          "name": "stderr",
          "text": [
            "<ipython-input-179-4bc484bfb9db>:14: SettingWithCopyWarning: \n",
            "A value is trying to be set on a copy of a slice from a DataFrame\n",
            "\n",
            "See the caveats in the documentation: https://pandas.pydata.org/pandas-docs/stable/user_guide/indexing.html#returning-a-view-versus-a-copy\n",
            "  annotation['gene_info'][s] = res\n"
          ]
        }
      ]
    },
    {
      "cell_type": "code",
      "source": [
        "df = {'coordinate': [0] * 4494, 'counts': [0] * 4494, 'counts_mean': [0] * 4494, 'gene_length': [0] * 4494}\n",
        "counts_df = pd.DataFrame(df)\n",
        "for i in range(len(annotation)): #запись в датафрейм данных о генах и их координатах\n",
        "  start = annotation.iloc[i, 0]\n",
        "  end = annotation.iloc[i, 1]\n",
        "  gene_counts = counts[(counts['coordinate'] >= start) &  (counts['coordinate'] <= end)]\n",
        "  gene_counts = gene_counts.reset_index(drop = True)\n",
        "  num = gene_counts['counts'].sum()\n",
        "  mean = num/len(gene_counts)\n",
        "  counts_df.iloc[i, 0] = start\n",
        "  counts_df.iloc[i, 1] = num\n",
        "  counts_df.iloc[i, 2] = mean\n",
        "  counts_df.iloc[i, 3] = end - start + 1"
      ],
      "metadata": {
        "colab": {
          "base_uri": "https://localhost:8080/"
        },
        "id": "X9OJWiPzBLjT",
        "outputId": "134b8ccc-c9a7-45d5-bcf9-aa2196a01e14"
      },
      "execution_count": 180,
      "outputs": [
        {
          "output_type": "stream",
          "name": "stderr",
          "text": [
            "<ipython-input-180-b8641b671bc6>:9: RuntimeWarning: invalid value encountered in long_scalars\n",
            "  mean = num/len(gene_counts)\n"
          ]
        }
      ]
    },
    {
      "cell_type": "code",
      "source": [
        "counts_df.head()"
      ],
      "metadata": {
        "colab": {
          "base_uri": "https://localhost:8080/",
          "height": 206
        },
        "id": "cT3rxEVr5Qw1",
        "outputId": "8f4febd2-7c37-41c8-8597-de31e87cf31c"
      },
      "execution_count": 181,
      "outputs": [
        {
          "output_type": "execute_result",
          "data": {
            "text/plain": [
              "   coordinate  counts  counts_mean  gene_length\n",
              "0         190     811    16.551020           66\n",
              "1         337   34300    17.958115         2463\n",
              "2        2801    6706    10.678344          933\n",
              "3        3734   19619    18.578598         1287\n",
              "4        5234     160     2.424242          297"
            ],
            "text/html": [
              "\n",
              "  <div id=\"df-fccda262-85bc-4ec4-8776-14b54ff313f8\">\n",
              "    <div class=\"colab-df-container\">\n",
              "      <div>\n",
              "<style scoped>\n",
              "    .dataframe tbody tr th:only-of-type {\n",
              "        vertical-align: middle;\n",
              "    }\n",
              "\n",
              "    .dataframe tbody tr th {\n",
              "        vertical-align: top;\n",
              "    }\n",
              "\n",
              "    .dataframe thead th {\n",
              "        text-align: right;\n",
              "    }\n",
              "</style>\n",
              "<table border=\"1\" class=\"dataframe\">\n",
              "  <thead>\n",
              "    <tr style=\"text-align: right;\">\n",
              "      <th></th>\n",
              "      <th>coordinate</th>\n",
              "      <th>counts</th>\n",
              "      <th>counts_mean</th>\n",
              "      <th>gene_length</th>\n",
              "    </tr>\n",
              "  </thead>\n",
              "  <tbody>\n",
              "    <tr>\n",
              "      <th>0</th>\n",
              "      <td>190</td>\n",
              "      <td>811</td>\n",
              "      <td>16.551020</td>\n",
              "      <td>66</td>\n",
              "    </tr>\n",
              "    <tr>\n",
              "      <th>1</th>\n",
              "      <td>337</td>\n",
              "      <td>34300</td>\n",
              "      <td>17.958115</td>\n",
              "      <td>2463</td>\n",
              "    </tr>\n",
              "    <tr>\n",
              "      <th>2</th>\n",
              "      <td>2801</td>\n",
              "      <td>6706</td>\n",
              "      <td>10.678344</td>\n",
              "      <td>933</td>\n",
              "    </tr>\n",
              "    <tr>\n",
              "      <th>3</th>\n",
              "      <td>3734</td>\n",
              "      <td>19619</td>\n",
              "      <td>18.578598</td>\n",
              "      <td>1287</td>\n",
              "    </tr>\n",
              "    <tr>\n",
              "      <th>4</th>\n",
              "      <td>5234</td>\n",
              "      <td>160</td>\n",
              "      <td>2.424242</td>\n",
              "      <td>297</td>\n",
              "    </tr>\n",
              "  </tbody>\n",
              "</table>\n",
              "</div>\n",
              "      <button class=\"colab-df-convert\" onclick=\"convertToInteractive('df-fccda262-85bc-4ec4-8776-14b54ff313f8')\"\n",
              "              title=\"Convert this dataframe to an interactive table.\"\n",
              "              style=\"display:none;\">\n",
              "        \n",
              "  <svg xmlns=\"http://www.w3.org/2000/svg\" height=\"24px\"viewBox=\"0 0 24 24\"\n",
              "       width=\"24px\">\n",
              "    <path d=\"M0 0h24v24H0V0z\" fill=\"none\"/>\n",
              "    <path d=\"M18.56 5.44l.94 2.06.94-2.06 2.06-.94-2.06-.94-.94-2.06-.94 2.06-2.06.94zm-11 1L8.5 8.5l.94-2.06 2.06-.94-2.06-.94L8.5 2.5l-.94 2.06-2.06.94zm10 10l.94 2.06.94-2.06 2.06-.94-2.06-.94-.94-2.06-.94 2.06-2.06.94z\"/><path d=\"M17.41 7.96l-1.37-1.37c-.4-.4-.92-.59-1.43-.59-.52 0-1.04.2-1.43.59L10.3 9.45l-7.72 7.72c-.78.78-.78 2.05 0 2.83L4 21.41c.39.39.9.59 1.41.59.51 0 1.02-.2 1.41-.59l7.78-7.78 2.81-2.81c.8-.78.8-2.07 0-2.86zM5.41 20L4 18.59l7.72-7.72 1.47 1.35L5.41 20z\"/>\n",
              "  </svg>\n",
              "      </button>\n",
              "      \n",
              "  <style>\n",
              "    .colab-df-container {\n",
              "      display:flex;\n",
              "      flex-wrap:wrap;\n",
              "      gap: 12px;\n",
              "    }\n",
              "\n",
              "    .colab-df-convert {\n",
              "      background-color: #E8F0FE;\n",
              "      border: none;\n",
              "      border-radius: 50%;\n",
              "      cursor: pointer;\n",
              "      display: none;\n",
              "      fill: #1967D2;\n",
              "      height: 32px;\n",
              "      padding: 0 0 0 0;\n",
              "      width: 32px;\n",
              "    }\n",
              "\n",
              "    .colab-df-convert:hover {\n",
              "      background-color: #E2EBFA;\n",
              "      box-shadow: 0px 1px 2px rgba(60, 64, 67, 0.3), 0px 1px 3px 1px rgba(60, 64, 67, 0.15);\n",
              "      fill: #174EA6;\n",
              "    }\n",
              "\n",
              "    [theme=dark] .colab-df-convert {\n",
              "      background-color: #3B4455;\n",
              "      fill: #D2E3FC;\n",
              "    }\n",
              "\n",
              "    [theme=dark] .colab-df-convert:hover {\n",
              "      background-color: #434B5C;\n",
              "      box-shadow: 0px 1px 3px 1px rgba(0, 0, 0, 0.15);\n",
              "      filter: drop-shadow(0px 1px 2px rgba(0, 0, 0, 0.3));\n",
              "      fill: #FFFFFF;\n",
              "    }\n",
              "  </style>\n",
              "\n",
              "      <script>\n",
              "        const buttonEl =\n",
              "          document.querySelector('#df-fccda262-85bc-4ec4-8776-14b54ff313f8 button.colab-df-convert');\n",
              "        buttonEl.style.display =\n",
              "          google.colab.kernel.accessAllowed ? 'block' : 'none';\n",
              "\n",
              "        async function convertToInteractive(key) {\n",
              "          const element = document.querySelector('#df-fccda262-85bc-4ec4-8776-14b54ff313f8');\n",
              "          const dataTable =\n",
              "            await google.colab.kernel.invokeFunction('convertToInteractive',\n",
              "                                                     [key], {});\n",
              "          if (!dataTable) return;\n",
              "\n",
              "          const docLinkHtml = 'Like what you see? Visit the ' +\n",
              "            '<a target=\"_blank\" href=https://colab.research.google.com/notebooks/data_table.ipynb>data table notebook</a>'\n",
              "            + ' to learn more about interactive tables.';\n",
              "          element.innerHTML = '';\n",
              "          dataTable['output_type'] = 'display_data';\n",
              "          await google.colab.output.renderOutput(dataTable, element);\n",
              "          const docLink = document.createElement('div');\n",
              "          docLink.innerHTML = docLinkHtml;\n",
              "          element.appendChild(docLink);\n",
              "        }\n",
              "      </script>\n",
              "    </div>\n",
              "  </div>\n",
              "  "
            ]
          },
          "metadata": {},
          "execution_count": 181
        }
      ]
    },
    {
      "cell_type": "markdown",
      "source": [
        "На примере гена с индексом 4492"
      ],
      "metadata": {
        "id": "xBM3pxCuAlUW"
      }
    },
    {
      "cell_type": "code",
      "source": [
        "counts_gene4492 = counts[(counts['coordinate'] >= 4640718) &  (counts['coordinate'] <= 4640771)]\n",
        "counts_gene4492 = counts_gene4492.reset_index(drop = True)"
      ],
      "metadata": {
        "id": "yB6sIRFp61ck"
      },
      "execution_count": 182,
      "outputs": []
    },
    {
      "cell_type": "code",
      "source": [
        "sns.barplot(data = counts_gene4492, x ='coordinate', y = 'counts')\n",
        "plt.xticks(rotation=45)"
      ],
      "metadata": {
        "colab": {
          "base_uri": "https://localhost:8080/",
          "height": 344
        },
        "id": "aGlwMJoOmwCe",
        "outputId": "71e89f31-f22a-45af-c817-eabcbd3136dd"
      },
      "execution_count": 183,
      "outputs": [
        {
          "output_type": "execute_result",
          "data": {
            "text/plain": [
              "(array([ 0,  1,  2,  3,  4,  5,  6,  7,  8,  9, 10, 11, 12, 13, 14, 15, 16,\n",
              "        17]), <a list of 18 Text major ticklabel objects>)"
            ]
          },
          "metadata": {},
          "execution_count": 183
        },
        {
          "output_type": "display_data",
          "data": {
            "text/plain": [
              "<Figure size 432x288 with 1 Axes>"
            ],
            "image/png": "[encoded data removed]"
          },
          "metadata": {
            "needs_background": "light"
          }
        }
      ]
    },
    {
      "cell_type": "code",
      "source": [
        "sns.scatterplot(data = counts_gene4492, x ='coordinate', y = 'counts')"
      ],
      "metadata": {
        "colab": {
          "base_uri": "https://localhost:8080/",
          "height": 298
        },
        "id": "_v6g23DI81Lb",
        "outputId": "d6ea4449-67ba-44cb-bc88-48a97fe6cfd9"
      },
      "execution_count": 184,
      "outputs": [
        {
          "output_type": "execute_result",
          "data": {
            "text/plain": [
              "<matplotlib.axes._subplots.AxesSubplot at 0x7fd5e57c25b0>"
            ]
          },
          "metadata": {},
          "execution_count": 184
        },
        {
          "output_type": "display_data",
          "data": {
            "text/plain": [
              "<Figure size 432x288 with 1 Axes>"
            ],
            "image/png": "[encoded data removed]"
          },
          "metadata": {
            "needs_background": "light"
          }
        }
      ]
    },
    {
      "cell_type": "markdown",
      "source": [
        "Для всех генов"
      ],
      "metadata": {
        "id": "i6YC0MQqAw_u"
      }
    },
    {
      "cell_type": "code",
      "source": [
        "sns.scatterplot(data = counts_df, x = 'coordinate', y = 'counts_mean')"
      ],
      "metadata": {
        "colab": {
          "base_uri": "https://localhost:8080/",
          "height": 297
        },
        "id": "0XmBw--t-plO",
        "outputId": "6a984842-dcd6-4550-9cef-c30a1873d83d"
      },
      "execution_count": 185,
      "outputs": [
        {
          "output_type": "execute_result",
          "data": {
            "text/plain": [
              "<matplotlib.axes._subplots.AxesSubplot at 0x7fd5eb93dd30>"
            ]
          },
          "metadata": {},
          "execution_count": 185
        },
        {
          "output_type": "display_data",
          "data": {
            "text/plain": [
              "<Figure size 432x288 with 1 Axes>"
            ],
            "image/png": "[encoded data removed]"
          },
          "metadata": {
            "needs_background": "light"
          }
        }
      ]
    },
    {
      "cell_type": "markdown",
      "source": [
        "И для одного гена и для всех видна сильная неравномерность в покрытии"
      ],
      "metadata": {
        "id": "mo0m4JX3AykU"
      }
    },
    {
      "cell_type": "markdown",
      "source": [
        "### **2.2 Расчет значений RPKM и TPM**"
      ],
      "metadata": {
        "id": "BfrYWkbqogmt"
      }
    },
    {
      "cell_type": "markdown",
      "source": [
        "RPKM - значения каунтов, нормированное на глубину библиотеки и затем длину гена.\n",
        "\n",
        "TPM - значения каунтов, нормированные на длину гена и затем глубину библиотеки.\n",
        "\n",
        "Поэтому из-за разницы в порядке нормировки получаются разные значения"
      ],
      "metadata": {
        "id": "APwM4iNdBA12"
      }
    },
    {
      "cell_type": "code",
      "source": [
        "total_reads = counts_df.counts.sum()\n",
        "RPKM = []\n",
        "TPM = []\n",
        "summ = 0\n",
        "for i in range(len(counts_df)):\n",
        "  RPKM.append(10**9 * (counts_df['counts'][i]/(total_reads * counts_df['gene_length'][i])))\n",
        "  summ += (counts_df['counts'][i]/counts_df['gene_length'][i])\n",
        "\n",
        "for i in range(len(counts_df)):\n",
        "  TPM.append(10**6 * ((counts_df['counts'][i]/counts_df['gene_length'][i])/summ))\n",
        "counts_df['RPKM'] = RPKM\n",
        "counts_df['TPM'] = TPM\n"
      ],
      "metadata": {
        "id": "yceVQYnkoh0_"
      },
      "execution_count": 186,
      "outputs": []
    },
    {
      "cell_type": "code",
      "source": [
        "counts_df"
      ],
      "metadata": {
        "colab": {
          "base_uri": "https://localhost:8080/",
          "height": 424
        },
        "id": "oycW3VKp9dU9",
        "outputId": "bdb4904d-d1cf-4a79-8c5c-023a9a4b3f16"
      },
      "execution_count": 187,
      "outputs": [
        {
          "output_type": "execute_result",
          "data": {
            "text/plain": [
              "      coordinate  counts  counts_mean  gene_length        RPKM         TPM\n",
              "0            190     811    16.551020           66  208.081136  126.253658\n",
              "1            337   34300    17.958115         2463  235.822641  143.085874\n",
              "2           2801    6706    10.678344          933  121.713205   73.849738\n",
              "3           3734   19619    18.578598         1287  258.139290  156.626547\n",
              "4           5234     160     2.424242          297    9.122615    5.535165\n",
              "...          ...     ...          ...          ...         ...         ...\n",
              "4489     4638178      30     1.071429         1353    0.375473    0.227819\n",
              "4490     4639590   11509    19.980903          717  271.815505  164.924618\n",
              "4491     4640402      66     1.941176          141    7.926484    4.809411\n",
              "4492     4640718      99     5.500000           54   31.045398   18.836859\n",
              "4493     4640942     561     2.597222          687   13.828081    8.390217\n",
              "\n",
              "[4494 rows x 6 columns]"
            ],
            "text/html": [
              "\n",
              "  <div id=\"df-b48c948f-d023-4a48-a8ab-4b4f111f88bd\">\n",
              "    <div class=\"colab-df-container\">\n",
              "      <div>\n",
              "<style scoped>\n",
              "    .dataframe tbody tr th:only-of-type {\n",
              "        vertical-align: middle;\n",
              "    }\n",
              "\n",
              "    .dataframe tbody tr th {\n",
              "        vertical-align: top;\n",
              "    }\n",
              "\n",
              "    .dataframe thead th {\n",
              "        text-align: right;\n",
              "    }\n",
              "</style>\n",
              "<table border=\"1\" class=\"dataframe\">\n",
              "  <thead>\n",
              "    <tr style=\"text-align: right;\">\n",
              "      <th></th>\n",
              "      <th>coordinate</th>\n",
              "      <th>counts</th>\n",
              "      <th>counts_mean</th>\n",
              "      <th>gene_length</th>\n",
              "      <th>RPKM</th>\n",
              "      <th>TPM</th>\n",
              "    </tr>\n",
              "  </thead>\n",
              "  <tbody>\n",
              "    <tr>\n",
              "      <th>0</th>\n",
              "      <td>190</td>\n",
              "      <td>811</td>\n",
              "      <td>16.551020</td>\n",
              "      <td>66</td>\n",
              "      <td>208.081136</td>\n",
              "      <td>126.253658</td>\n",
              "    </tr>\n",
              "    <tr>\n",
              "      <th>1</th>\n",
              "      <td>337</td>\n",
              "      <td>34300</td>\n",
              "      <td>17.958115</td>\n",
              "      <td>2463</td>\n",
              "      <td>235.822641</td>\n",
              "      <td>143.085874</td>\n",
              "    </tr>\n",
              "    <tr>\n",
              "      <th>2</th>\n",
              "      <td>2801</td>\n",
              "      <td>6706</td>\n",
              "      <td>10.678344</td>\n",
              "      <td>933</td>\n",
              "      <td>121.713205</td>\n",
              "      <td>73.849738</td>\n",
              "    </tr>\n",
              "    <tr>\n",
              "      <th>3</th>\n",
              "      <td>3734</td>\n",
              "      <td>19619</td>\n",
              "      <td>18.578598</td>\n",
              "      <td>1287</td>\n",
              "      <td>258.139290</td>\n",
              "      <td>156.626547</td>\n",
              "    </tr>\n",
              "    <tr>\n",
              "      <th>4</th>\n",
              "      <td>5234</td>\n",
              "      <td>160</td>\n",
              "      <td>2.424242</td>\n",
              "      <td>297</td>\n",
              "      <td>9.122615</td>\n",
              "      <td>5.535165</td>\n",
              "    </tr>\n",
              "    <tr>\n",
              "      <th>...</th>\n",
              "      <td>...</td>\n",
              "      <td>...</td>\n",
              "      <td>...</td>\n",
              "      <td>...</td>\n",
              "      <td>...</td>\n",
              "      <td>...</td>\n",
              "    </tr>\n",
              "    <tr>\n",
              "      <th>4489</th>\n",
              "      <td>4638178</td>\n",
              "      <td>30</td>\n",
              "      <td>1.071429</td>\n",
              "      <td>1353</td>\n",
              "      <td>0.375473</td>\n",
              "      <td>0.227819</td>\n",
              "    </tr>\n",
              "    <tr>\n",
              "      <th>4490</th>\n",
              "      <td>4639590</td>\n",
              "      <td>11509</td>\n",
              "      <td>19.980903</td>\n",
              "      <td>717</td>\n",
              "      <td>271.815505</td>\n",
              "      <td>164.924618</td>\n",
              "    </tr>\n",
              "    <tr>\n",
              "      <th>4491</th>\n",
              "      <td>4640402</td>\n",
              "      <td>66</td>\n",
              "      <td>1.941176</td>\n",
              "      <td>141</td>\n",
              "      <td>7.926484</td>\n",
              "      <td>4.809411</td>\n",
              "    </tr>\n",
              "    <tr>\n",
              "      <th>4492</th>\n",
              "      <td>4640718</td>\n",
              "      <td>99</td>\n",
              "      <td>5.500000</td>\n",
              "      <td>54</td>\n",
              "      <td>31.045398</td>\n",
              "      <td>18.836859</td>\n",
              "    </tr>\n",
              "    <tr>\n",
              "      <th>4493</th>\n",
              "      <td>4640942</td>\n",
              "      <td>561</td>\n",
              "      <td>2.597222</td>\n",
              "      <td>687</td>\n",
              "      <td>13.828081</td>\n",
              "      <td>8.390217</td>\n",
              "    </tr>\n",
              "  </tbody>\n",
              "</table>\n",
              "<p>4494 rows × 6 columns</p>\n",
              "</div>\n",
              "      <button class=\"colab-df-convert\" onclick=\"convertToInteractive('df-b48c948f-d023-4a48-a8ab-4b4f111f88bd')\"\n",
              "              title=\"Convert this dataframe to an interactive table.\"\n",
              "              style=\"display:none;\">\n",
              "        \n",
              "  <svg xmlns=\"http://www.w3.org/2000/svg\" height=\"24px\"viewBox=\"0 0 24 24\"\n",
              "       width=\"24px\">\n",
              "    <path d=\"M0 0h24v24H0V0z\" fill=\"none\"/>\n",
              "    <path d=\"M18.56 5.44l.94 2.06.94-2.06 2.06-.94-2.06-.94-.94-2.06-.94 2.06-2.06.94zm-11 1L8.5 8.5l.94-2.06 2.06-.94-2.06-.94L8.5 2.5l-.94 2.06-2.06.94zm10 10l.94 2.06.94-2.06 2.06-.94-2.06-.94-.94-2.06-.94 2.06-2.06.94z\"/><path d=\"M17.41 7.96l-1.37-1.37c-.4-.4-.92-.59-1.43-.59-.52 0-1.04.2-1.43.59L10.3 9.45l-7.72 7.72c-.78.78-.78 2.05 0 2.83L4 21.41c.39.39.9.59 1.41.59.51 0 1.02-.2 1.41-.59l7.78-7.78 2.81-2.81c.8-.78.8-2.07 0-2.86zM5.41 20L4 18.59l7.72-7.72 1.47 1.35L5.41 20z\"/>\n",
              "  </svg>\n",
              "      </button>\n",
              "      \n",
              "  <style>\n",
              "    .colab-df-container {\n",
              "      display:flex;\n",
              "      flex-wrap:wrap;\n",
              "      gap: 12px;\n",
              "    }\n",
              "\n",
              "    .colab-df-convert {\n",
              "      background-color: #E8F0FE;\n",
              "      border: none;\n",
              "      border-radius: 50%;\n",
              "      cursor: pointer;\n",
              "      display: none;\n",
              "      fill: #1967D2;\n",
              "      height: 32px;\n",
              "      padding: 0 0 0 0;\n",
              "      width: 32px;\n",
              "    }\n",
              "\n",
              "    .colab-df-convert:hover {\n",
              "      background-color: #E2EBFA;\n",
              "      box-shadow: 0px 1px 2px rgba(60, 64, 67, 0.3), 0px 1px 3px 1px rgba(60, 64, 67, 0.15);\n",
              "      fill: #174EA6;\n",
              "    }\n",
              "\n",
              "    [theme=dark] .colab-df-convert {\n",
              "      background-color: #3B4455;\n",
              "      fill: #D2E3FC;\n",
              "    }\n",
              "\n",
              "    [theme=dark] .colab-df-convert:hover {\n",
              "      background-color: #434B5C;\n",
              "      box-shadow: 0px 1px 3px 1px rgba(0, 0, 0, 0.15);\n",
              "      filter: drop-shadow(0px 1px 2px rgba(0, 0, 0, 0.3));\n",
              "      fill: #FFFFFF;\n",
              "    }\n",
              "  </style>\n",
              "\n",
              "      <script>\n",
              "        const buttonEl =\n",
              "          document.querySelector('#df-b48c948f-d023-4a48-a8ab-4b4f111f88bd button.colab-df-convert');\n",
              "        buttonEl.style.display =\n",
              "          google.colab.kernel.accessAllowed ? 'block' : 'none';\n",
              "\n",
              "        async function convertToInteractive(key) {\n",
              "          const element = document.querySelector('#df-b48c948f-d023-4a48-a8ab-4b4f111f88bd');\n",
              "          const dataTable =\n",
              "            await google.colab.kernel.invokeFunction('convertToInteractive',\n",
              "                                                     [key], {});\n",
              "          if (!dataTable) return;\n",
              "\n",
              "          const docLinkHtml = 'Like what you see? Visit the ' +\n",
              "            '<a target=\"_blank\" href=https://colab.research.google.com/notebooks/data_table.ipynb>data table notebook</a>'\n",
              "            + ' to learn more about interactive tables.';\n",
              "          element.innerHTML = '';\n",
              "          dataTable['output_type'] = 'display_data';\n",
              "          await google.colab.output.renderOutput(dataTable, element);\n",
              "          const docLink = document.createElement('div');\n",
              "          docLink.innerHTML = docLinkHtml;\n",
              "          element.appendChild(docLink);\n",
              "        }\n",
              "      </script>\n",
              "    </div>\n",
              "  </div>\n",
              "  "
            ]
          },
          "metadata": {},
          "execution_count": 187
        }
      ]
    },
    {
      "cell_type": "markdown",
      "source": [
        "### **2.3 Анализ значений RPKM для генов из оперона ATP**"
      ],
      "metadata": {
        "id": "h0nLHk4kHG2u"
      }
    },
    {
      "cell_type": "code",
      "source": [
        "atp = annotation[annotation['gene_info'].str.contains('atp')]"
      ],
      "metadata": {
        "id": "cRS6TXofASkj"
      },
      "execution_count": 188,
      "outputs": []
    },
    {
      "cell_type": "code",
      "source": [
        "atp_rpkm = counts_df['RPKM'][(counts_df['coordinate'] >= 3915553) & (counts_df['coordinate'] <= 3922440)]"
      ],
      "metadata": {
        "id": "pqMkhUZPKVi8"
      },
      "execution_count": 189,
      "outputs": []
    },
    {
      "cell_type": "code",
      "source": [
        "atp['RPKM'] = atp_rpkm"
      ],
      "metadata": {
        "colab": {
          "base_uri": "https://localhost:8080/"
        },
        "id": "JjjFs6idIKQq",
        "outputId": "69faca2e-cbe8-42d1-a854-fd3f11340d68"
      },
      "execution_count": 190,
      "outputs": [
        {
          "output_type": "stream",
          "name": "stderr",
          "text": [
            "<ipython-input-190-041b86e6346a>:1: SettingWithCopyWarning: \n",
            "A value is trying to be set on a copy of a slice from a DataFrame.\n",
            "Try using .loc[row_indexer,col_indexer] = value instead\n",
            "\n",
            "See the caveats in the documentation: https://pandas.pydata.org/pandas-docs/stable/user_guide/indexing.html#returning-a-view-versus-a-copy\n",
            "  atp['RPKM'] = atp_rpkm\n"
          ]
        }
      ]
    },
    {
      "cell_type": "code",
      "source": [
        "atp"
      ],
      "metadata": {
        "colab": {
          "base_uri": "https://localhost:8080/",
          "height": 332
        },
        "id": "FRxeJGIwIK29",
        "outputId": "947b4205-abde-4ae4-a251-a6b8bf6b0e86"
      },
      "execution_count": 191,
      "outputs": [
        {
          "output_type": "execute_result",
          "data": {
            "text/plain": [
              "        start      end gene_info         RPKM\n",
              "3810  3915553  3915972      atpC   466.729250\n",
              "3811  3915993  3917375      atpD  1030.222326\n",
              "3812  3917402  3918265      atpG   247.304815\n",
              "3813  3918316  3919857      atpA   803.139055\n",
              "3814  3919870  3920403      atpH   299.386720\n",
              "3815  3920418  3920888      atpF   454.158034\n",
              "3816  3920950  3921189      atpE  5037.468549\n",
              "3817  3921236  3922051      atpB   475.289266\n",
              "3818  3922060  3922440      atpI    22.711808"
            ],
            "text/html": [
              "\n",
              "  <div id=\"df-5af0397e-299b-4476-85ad-84e8e379ab35\">\n",
              "    <div class=\"colab-df-container\">\n",
              "      <div>\n",
              "<style scoped>\n",
              "    .dataframe tbody tr th:only-of-type {\n",
              "        vertical-align: middle;\n",
              "    }\n",
              "\n",
              "    .dataframe tbody tr th {\n",
              "        vertical-align: top;\n",
              "    }\n",
              "\n",
              "    .dataframe thead th {\n",
              "        text-align: right;\n",
              "    }\n",
              "</style>\n",
              "<table border=\"1\" class=\"dataframe\">\n",
              "  <thead>\n",
              "    <tr style=\"text-align: right;\">\n",
              "      <th></th>\n",
              "      <th>start</th>\n",
              "      <th>end</th>\n",
              "      <th>gene_info</th>\n",
              "      <th>RPKM</th>\n",
              "    </tr>\n",
              "  </thead>\n",
              "  <tbody>\n",
              "    <tr>\n",
              "      <th>3810</th>\n",
              "      <td>3915553</td>\n",
              "      <td>3915972</td>\n",
              "      <td>atpC</td>\n",
              "      <td>466.729250</td>\n",
              "    </tr>\n",
              "    <tr>\n",
              "      <th>3811</th>\n",
              "      <td>3915993</td>\n",
              "      <td>3917375</td>\n",
              "      <td>atpD</td>\n",
              "      <td>1030.222326</td>\n",
              "    </tr>\n",
              "    <tr>\n",
              "      <th>3812</th>\n",
              "      <td>3917402</td>\n",
              "      <td>3918265</td>\n",
              "      <td>atpG</td>\n",
              "      <td>247.304815</td>\n",
              "    </tr>\n",
              "    <tr>\n",
              "      <th>3813</th>\n",
              "      <td>3918316</td>\n",
              "      <td>3919857</td>\n",
              "      <td>atpA</td>\n",
              "      <td>803.139055</td>\n",
              "    </tr>\n",
              "    <tr>\n",
              "      <th>3814</th>\n",
              "      <td>3919870</td>\n",
              "      <td>3920403</td>\n",
              "      <td>atpH</td>\n",
              "      <td>299.386720</td>\n",
              "    </tr>\n",
              "    <tr>\n",
              "      <th>3815</th>\n",
              "      <td>3920418</td>\n",
              "      <td>3920888</td>\n",
              "      <td>atpF</td>\n",
              "      <td>454.158034</td>\n",
              "    </tr>\n",
              "    <tr>\n",
              "      <th>3816</th>\n",
              "      <td>3920950</td>\n",
              "      <td>3921189</td>\n",
              "      <td>atpE</td>\n",
              "      <td>5037.468549</td>\n",
              "    </tr>\n",
              "    <tr>\n",
              "      <th>3817</th>\n",
              "      <td>3921236</td>\n",
              "      <td>3922051</td>\n",
              "      <td>atpB</td>\n",
              "      <td>475.289266</td>\n",
              "    </tr>\n",
              "    <tr>\n",
              "      <th>3818</th>\n",
              "      <td>3922060</td>\n",
              "      <td>3922440</td>\n",
              "      <td>atpI</td>\n",
              "      <td>22.711808</td>\n",
              "    </tr>\n",
              "  </tbody>\n",
              "</table>\n",
              "</div>\n",
              "      <button class=\"colab-df-convert\" onclick=\"convertToInteractive('df-5af0397e-299b-4476-85ad-84e8e379ab35')\"\n",
              "              title=\"Convert this dataframe to an interactive table.\"\n",
              "              style=\"display:none;\">\n",
              "        \n",
              "  <svg xmlns=\"http://www.w3.org/2000/svg\" height=\"24px\"viewBox=\"0 0 24 24\"\n",
              "       width=\"24px\">\n",
              "    <path d=\"M0 0h24v24H0V0z\" fill=\"none\"/>\n",
              "    <path d=\"M18.56 5.44l.94 2.06.94-2.06 2.06-.94-2.06-.94-.94-2.06-.94 2.06-2.06.94zm-11 1L8.5 8.5l.94-2.06 2.06-.94-2.06-.94L8.5 2.5l-.94 2.06-2.06.94zm10 10l.94 2.06.94-2.06 2.06-.94-2.06-.94-.94-2.06-.94 2.06-2.06.94z\"/><path d=\"M17.41 7.96l-1.37-1.37c-.4-.4-.92-.59-1.43-.59-.52 0-1.04.2-1.43.59L10.3 9.45l-7.72 7.72c-.78.78-.78 2.05 0 2.83L4 21.41c.39.39.9.59 1.41.59.51 0 1.02-.2 1.41-.59l7.78-7.78 2.81-2.81c.8-.78.8-2.07 0-2.86zM5.41 20L4 18.59l7.72-7.72 1.47 1.35L5.41 20z\"/>\n",
              "  </svg>\n",
              "      </button>\n",
              "      \n",
              "  <style>\n",
              "    .colab-df-container {\n",
              "      display:flex;\n",
              "      flex-wrap:wrap;\n",
              "      gap: 12px;\n",
              "    }\n",
              "\n",
              "    .colab-df-convert {\n",
              "      background-color: #E8F0FE;\n",
              "      border: none;\n",
              "      border-radius: 50%;\n",
              "      cursor: pointer;\n",
              "      display: none;\n",
              "      fill: #1967D2;\n",
              "      height: 32px;\n",
              "      padding: 0 0 0 0;\n",
              "      width: 32px;\n",
              "    }\n",
              "\n",
              "    .colab-df-convert:hover {\n",
              "      background-color: #E2EBFA;\n",
              "      box-shadow: 0px 1px 2px rgba(60, 64, 67, 0.3), 0px 1px 3px 1px rgba(60, 64, 67, 0.15);\n",
              "      fill: #174EA6;\n",
              "    }\n",
              "\n",
              "    [theme=dark] .colab-df-convert {\n",
              "      background-color: #3B4455;\n",
              "      fill: #D2E3FC;\n",
              "    }\n",
              "\n",
              "    [theme=dark] .colab-df-convert:hover {\n",
              "      background-color: #434B5C;\n",
              "      box-shadow: 0px 1px 3px 1px rgba(0, 0, 0, 0.15);\n",
              "      filter: drop-shadow(0px 1px 2px rgba(0, 0, 0, 0.3));\n",
              "      fill: #FFFFFF;\n",
              "    }\n",
              "  </style>\n",
              "\n",
              "      <script>\n",
              "        const buttonEl =\n",
              "          document.querySelector('#df-5af0397e-299b-4476-85ad-84e8e379ab35 button.colab-df-convert');\n",
              "        buttonEl.style.display =\n",
              "          google.colab.kernel.accessAllowed ? 'block' : 'none';\n",
              "\n",
              "        async function convertToInteractive(key) {\n",
              "          const element = document.querySelector('#df-5af0397e-299b-4476-85ad-84e8e379ab35');\n",
              "          const dataTable =\n",
              "            await google.colab.kernel.invokeFunction('convertToInteractive',\n",
              "                                                     [key], {});\n",
              "          if (!dataTable) return;\n",
              "\n",
              "          const docLinkHtml = 'Like what you see? Visit the ' +\n",
              "            '<a target=\"_blank\" href=https://colab.research.google.com/notebooks/data_table.ipynb>data table notebook</a>'\n",
              "            + ' to learn more about interactive tables.';\n",
              "          element.innerHTML = '';\n",
              "          dataTable['output_type'] = 'display_data';\n",
              "          await google.colab.output.renderOutput(dataTable, element);\n",
              "          const docLink = document.createElement('div');\n",
              "          docLink.innerHTML = docLinkHtml;\n",
              "          element.appendChild(docLink);\n",
              "        }\n",
              "      </script>\n",
              "    </div>\n",
              "  </div>\n",
              "  "
            ]
          },
          "metadata": {},
          "execution_count": 191
        }
      ]
    },
    {
      "cell_type": "markdown",
      "source": [
        "Координаты оперона: 3915553-3922440\n",
        "\n",
        "Гены: atpC, atpD, atpG, atpA, atpH, atpF, atpE, atpB, atpI"
      ],
      "metadata": {
        "id": "hZRdLQS1GOkj"
      }
    },
    {
      "cell_type": "markdown",
      "source": [
        "Между генами одного оперона есть разница между значениями RPKM, при этом для некоторых генов очень большая\n",
        "\n",
        "Наибольшее значение RPKM соответствует очень консервативному гену atpE, кодирующему C-субъединицу АТФ-синтазы. Возможно из-за его функциональной значимости, он сильно транслируется, поэтому для этого гена покрытие высокое. \n",
        "\n",
        "Для гена atpI значение RPKM минимально в этом опероне - функции гена atpI менее обширны, он транслируется меньше. "
      ],
      "metadata": {
        "id": "f_stDKlwGhIQ"
      }
    },
    {
      "cell_type": "markdown",
      "source": [
        "С помощью RNA-Seq неравномерность покрытия в опероне, скорее всего, была бы сильно меньше. Нельзя было бы увидеть точные данные с транслируемых областей."
      ],
      "metadata": {
        "id": "7OYz1vxMImXE"
      }
    }
  ]
}